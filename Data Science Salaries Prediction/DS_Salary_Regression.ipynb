{
 "cells": [
  {
   "cell_type": "code",
   "execution_count": null,
   "metadata": {
    "id": "X1pWl7Wc5R3c"
   },
   "outputs": [],
   "source": [
    "# Importing Libraries\n",
    "\n",
    "import pandas as pd\n",
    "import numpy as np\n",
    "import seaborn as sns\n",
    "import matplotlib.pyplot as plt\n",
    "%matplotlib inline"
   ]
  },
  {
   "cell_type": "code",
   "execution_count": null,
   "metadata": {
    "colab": {
     "base_uri": "https://localhost:8080/"
    },
    "id": "rYEMm2SR6LIj",
    "outputId": "2e22b389-9aa6-4f8f-c0dc-7ded6897a514"
   },
   "outputs": [
    {
     "name": "stdout",
     "output_type": "stream",
     "text": [
      "Drive already mounted at /content/drive; to attempt to forcibly remount, call drive.mount(\"/content/drive\", force_remount=True).\n"
     ]
    }
   ],
   "source": [
    "from google.colab import drive\n",
    "drive.mount('/content/drive')"
   ]
  },
  {
   "cell_type": "code",
   "execution_count": null,
   "metadata": {
    "colab": {
     "base_uri": "https://localhost:8080/",
     "height": 206
    },
    "id": "5vUDXMR_6Mh_",
    "outputId": "bd2fc252-c196-4d7b-a8af-f762ad8ed0ab"
   },
   "outputs": [
    {
     "data": {
      "text/html": [
       "\n",
       "  <div id=\"df-2bb63fae-02e7-4dff-ad1d-1db42e7fb5fa\" class=\"colab-df-container\">\n",
       "    <div>\n",
       "<style scoped>\n",
       "    .dataframe tbody tr th:only-of-type {\n",
       "        vertical-align: middle;\n",
       "    }\n",
       "\n",
       "    .dataframe tbody tr th {\n",
       "        vertical-align: top;\n",
       "    }\n",
       "\n",
       "    .dataframe thead th {\n",
       "        text-align: right;\n",
       "    }\n",
       "</style>\n",
       "<table border=\"1\" class=\"dataframe\">\n",
       "  <thead>\n",
       "    <tr style=\"text-align: right;\">\n",
       "      <th></th>\n",
       "      <th>Job Title</th>\n",
       "      <th>Employment Type</th>\n",
       "      <th>Experience Level</th>\n",
       "      <th>Expertise Level</th>\n",
       "      <th>Salary</th>\n",
       "      <th>Salary Currency</th>\n",
       "      <th>Company Location</th>\n",
       "      <th>Salary in USD</th>\n",
       "      <th>Employee Residence</th>\n",
       "      <th>Company Size</th>\n",
       "      <th>Year</th>\n",
       "    </tr>\n",
       "  </thead>\n",
       "  <tbody>\n",
       "    <tr>\n",
       "      <th>0</th>\n",
       "      <td>AI Scientist</td>\n",
       "      <td>Full-Time</td>\n",
       "      <td>Senior</td>\n",
       "      <td>Expert</td>\n",
       "      <td>60000</td>\n",
       "      <td>Euro</td>\n",
       "      <td>Germany</td>\n",
       "      <td>64781</td>\n",
       "      <td>Germany</td>\n",
       "      <td>Large</td>\n",
       "      <td>2023</td>\n",
       "    </tr>\n",
       "    <tr>\n",
       "      <th>1</th>\n",
       "      <td>Data Engineer</td>\n",
       "      <td>Full-Time</td>\n",
       "      <td>Mid</td>\n",
       "      <td>Intermediate</td>\n",
       "      <td>160000</td>\n",
       "      <td>United States Dollar</td>\n",
       "      <td>United States</td>\n",
       "      <td>160000</td>\n",
       "      <td>United States</td>\n",
       "      <td>Medium</td>\n",
       "      <td>2023</td>\n",
       "    </tr>\n",
       "    <tr>\n",
       "      <th>2</th>\n",
       "      <td>Data Engineer</td>\n",
       "      <td>Full-Time</td>\n",
       "      <td>Mid</td>\n",
       "      <td>Intermediate</td>\n",
       "      <td>140000</td>\n",
       "      <td>United States Dollar</td>\n",
       "      <td>United States</td>\n",
       "      <td>140000</td>\n",
       "      <td>United States</td>\n",
       "      <td>Medium</td>\n",
       "      <td>2023</td>\n",
       "    </tr>\n",
       "    <tr>\n",
       "      <th>3</th>\n",
       "      <td>Data Engineer</td>\n",
       "      <td>Full-Time</td>\n",
       "      <td>Mid</td>\n",
       "      <td>Intermediate</td>\n",
       "      <td>139152</td>\n",
       "      <td>United States Dollar</td>\n",
       "      <td>United States</td>\n",
       "      <td>139152</td>\n",
       "      <td>United States</td>\n",
       "      <td>Large</td>\n",
       "      <td>2023</td>\n",
       "    </tr>\n",
       "    <tr>\n",
       "      <th>4</th>\n",
       "      <td>Data Engineer</td>\n",
       "      <td>Full-Time</td>\n",
       "      <td>Mid</td>\n",
       "      <td>Intermediate</td>\n",
       "      <td>82452</td>\n",
       "      <td>United States Dollar</td>\n",
       "      <td>United States</td>\n",
       "      <td>82452</td>\n",
       "      <td>United States</td>\n",
       "      <td>Large</td>\n",
       "      <td>2023</td>\n",
       "    </tr>\n",
       "  </tbody>\n",
       "</table>\n",
       "</div>\n",
       "    <div class=\"colab-df-buttons\">\n",
       "\n",
       "  <div class=\"colab-df-container\">\n",
       "    <button class=\"colab-df-convert\" onclick=\"convertToInteractive('df-2bb63fae-02e7-4dff-ad1d-1db42e7fb5fa')\"\n",
       "            title=\"Convert this dataframe to an interactive table.\"\n",
       "            style=\"display:none;\">\n",
       "\n",
       "  <svg xmlns=\"http://www.w3.org/2000/svg\" height=\"24px\" viewBox=\"0 -960 960 960\">\n",
       "    <path d=\"M120-120v-720h720v720H120Zm60-500h600v-160H180v160Zm220 220h160v-160H400v160Zm0 220h160v-160H400v160ZM180-400h160v-160H180v160Zm440 0h160v-160H620v160ZM180-180h160v-160H180v160Zm440 0h160v-160H620v160Z\"/>\n",
       "  </svg>\n",
       "    </button>\n",
       "\n",
       "  <style>\n",
       "    .colab-df-container {\n",
       "      display:flex;\n",
       "      gap: 12px;\n",
       "    }\n",
       "\n",
       "    .colab-df-convert {\n",
       "      background-color: #E8F0FE;\n",
       "      border: none;\n",
       "      border-radius: 50%;\n",
       "      cursor: pointer;\n",
       "      display: none;\n",
       "      fill: #1967D2;\n",
       "      height: 32px;\n",
       "      padding: 0 0 0 0;\n",
       "      width: 32px;\n",
       "    }\n",
       "\n",
       "    .colab-df-convert:hover {\n",
       "      background-color: #E2EBFA;\n",
       "      box-shadow: 0px 1px 2px rgba(60, 64, 67, 0.3), 0px 1px 3px 1px rgba(60, 64, 67, 0.15);\n",
       "      fill: #174EA6;\n",
       "    }\n",
       "\n",
       "    .colab-df-buttons div {\n",
       "      margin-bottom: 4px;\n",
       "    }\n",
       "\n",
       "    [theme=dark] .colab-df-convert {\n",
       "      background-color: #3B4455;\n",
       "      fill: #D2E3FC;\n",
       "    }\n",
       "\n",
       "    [theme=dark] .colab-df-convert:hover {\n",
       "      background-color: #434B5C;\n",
       "      box-shadow: 0px 1px 3px 1px rgba(0, 0, 0, 0.15);\n",
       "      filter: drop-shadow(0px 1px 2px rgba(0, 0, 0, 0.3));\n",
       "      fill: #FFFFFF;\n",
       "    }\n",
       "  </style>\n",
       "\n",
       "    <script>\n",
       "      const buttonEl =\n",
       "        document.querySelector('#df-2bb63fae-02e7-4dff-ad1d-1db42e7fb5fa button.colab-df-convert');\n",
       "      buttonEl.style.display =\n",
       "        google.colab.kernel.accessAllowed ? 'block' : 'none';\n",
       "\n",
       "      async function convertToInteractive(key) {\n",
       "        const element = document.querySelector('#df-2bb63fae-02e7-4dff-ad1d-1db42e7fb5fa');\n",
       "        const dataTable =\n",
       "          await google.colab.kernel.invokeFunction('convertToInteractive',\n",
       "                                                    [key], {});\n",
       "        if (!dataTable) return;\n",
       "\n",
       "        const docLinkHtml = 'Like what you see? Visit the ' +\n",
       "          '<a target=\"_blank\" href=https://colab.research.google.com/notebooks/data_table.ipynb>data table notebook</a>'\n",
       "          + ' to learn more about interactive tables.';\n",
       "        element.innerHTML = '';\n",
       "        dataTable['output_type'] = 'display_data';\n",
       "        await google.colab.output.renderOutput(dataTable, element);\n",
       "        const docLink = document.createElement('div');\n",
       "        docLink.innerHTML = docLinkHtml;\n",
       "        element.appendChild(docLink);\n",
       "      }\n",
       "    </script>\n",
       "  </div>\n",
       "\n",
       "\n",
       "<div id=\"df-7a1af15d-af5f-4f6c-88ed-31da2ab60cdc\">\n",
       "  <button class=\"colab-df-quickchart\" onclick=\"quickchart('df-7a1af15d-af5f-4f6c-88ed-31da2ab60cdc')\"\n",
       "            title=\"Suggest charts.\"\n",
       "            style=\"display:none;\">\n",
       "\n",
       "<svg xmlns=\"http://www.w3.org/2000/svg\" height=\"24px\"viewBox=\"0 0 24 24\"\n",
       "     width=\"24px\">\n",
       "    <g>\n",
       "        <path d=\"M19 3H5c-1.1 0-2 .9-2 2v14c0 1.1.9 2 2 2h14c1.1 0 2-.9 2-2V5c0-1.1-.9-2-2-2zM9 17H7v-7h2v7zm4 0h-2V7h2v10zm4 0h-2v-4h2v4z\"/>\n",
       "    </g>\n",
       "</svg>\n",
       "  </button>\n",
       "\n",
       "<style>\n",
       "  .colab-df-quickchart {\n",
       "    background-color: #E8F0FE;\n",
       "    border: none;\n",
       "    border-radius: 50%;\n",
       "    cursor: pointer;\n",
       "    display: none;\n",
       "    fill: #1967D2;\n",
       "    height: 32px;\n",
       "    padding: 0 0 0 0;\n",
       "    width: 32px;\n",
       "  }\n",
       "\n",
       "  .colab-df-quickchart:hover {\n",
       "    background-color: #E2EBFA;\n",
       "    box-shadow: 0px 1px 2px rgba(60, 64, 67, 0.3), 0px 1px 3px 1px rgba(60, 64, 67, 0.15);\n",
       "    fill: #174EA6;\n",
       "  }\n",
       "\n",
       "  [theme=dark] .colab-df-quickchart {\n",
       "    background-color: #3B4455;\n",
       "    fill: #D2E3FC;\n",
       "  }\n",
       "\n",
       "  [theme=dark] .colab-df-quickchart:hover {\n",
       "    background-color: #434B5C;\n",
       "    box-shadow: 0px 1px 3px 1px rgba(0, 0, 0, 0.15);\n",
       "    filter: drop-shadow(0px 1px 2px rgba(0, 0, 0, 0.3));\n",
       "    fill: #FFFFFF;\n",
       "  }\n",
       "</style>\n",
       "\n",
       "  <script>\n",
       "    async function quickchart(key) {\n",
       "      const charts = await google.colab.kernel.invokeFunction(\n",
       "          'suggestCharts', [key], {});\n",
       "    }\n",
       "    (() => {\n",
       "      let quickchartButtonEl =\n",
       "        document.querySelector('#df-7a1af15d-af5f-4f6c-88ed-31da2ab60cdc button');\n",
       "      quickchartButtonEl.style.display =\n",
       "        google.colab.kernel.accessAllowed ? 'block' : 'none';\n",
       "    })();\n",
       "  </script>\n",
       "</div>\n",
       "    </div>\n",
       "  </div>\n"
      ],
      "text/plain": [
       "       Job Title Employment Type Experience Level Expertise Level  Salary  \\\n",
       "0   AI Scientist       Full-Time           Senior          Expert   60000   \n",
       "1  Data Engineer       Full-Time              Mid    Intermediate  160000   \n",
       "2  Data Engineer       Full-Time              Mid    Intermediate  140000   \n",
       "3  Data Engineer       Full-Time              Mid    Intermediate  139152   \n",
       "4  Data Engineer       Full-Time              Mid    Intermediate   82452   \n",
       "\n",
       "        Salary Currency Company Location  Salary in USD Employee Residence  \\\n",
       "0                  Euro          Germany          64781            Germany   \n",
       "1  United States Dollar    United States         160000      United States   \n",
       "2  United States Dollar    United States         140000      United States   \n",
       "3  United States Dollar    United States         139152      United States   \n",
       "4  United States Dollar    United States          82452      United States   \n",
       "\n",
       "  Company Size  Year  \n",
       "0        Large  2023  \n",
       "1       Medium  2023  \n",
       "2       Medium  2023  \n",
       "3        Large  2023  \n",
       "4        Large  2023  "
      ]
     },
     "execution_count": 180,
     "metadata": {},
     "output_type": "execute_result"
    }
   ],
   "source": [
    "data = pd.read_csv('/content/drive/MyDrive/ST4035_DataScience/Group Project/v4_Latest_Data_Science_Salaries.csv')\n",
    "data.head()"
   ]
  },
  {
   "cell_type": "markdown",
   "metadata": {
    "id": "8U06t4KCwRcj"
   },
   "source": [
    "There isn't a globally standardized range for categorizing salaries into specific ranges, as salary levels can vary significantly based on factors such as country, industry, job role, and cost of living. What might be considered a high salary in one region could be quite different in another due to differences in economic conditions and purchasing power.\n",
    "\n",
    "However, some organizations and agencies do provide general guidelines or salary benchmarks based on global or regional data. For example, the World Bank might provide income categories based on countries' gross national income (GNI) per capita, but these categories are often used for economic classification rather than precise salary ranges.\n",
    "\n",
    "If you're looking for a standardized approach, you might consider using percentiles or quartiles based on your specific dataset. This way, you can categorize salaries relative to the distribution within your data, which could offer more meaningful insights for your analysis. Alternatively, you could consult salary surveys or reports specific to your industry or region to get a sense of typical salary ranges for different roles and experience levels.\n"
   ]
  },
  {
   "cell_type": "code",
   "execution_count": null,
   "metadata": {
    "colab": {
     "base_uri": "https://localhost:8080/"
    },
    "id": "FlAfOSc6AQ-5",
    "outputId": "df0f47f1-9360-4a44-c455-6a73942f0a69"
   },
   "outputs": [
    {
     "data": {
      "text/plain": [
       "Job Title             0\n",
       "Employment Type       0\n",
       "Experience Level      0\n",
       "Expertise Level       0\n",
       "Salary                0\n",
       "Salary Currency       0\n",
       "Company Location      0\n",
       "Salary in USD         0\n",
       "Employee Residence    0\n",
       "Company Size          0\n",
       "Year                  0\n",
       "dtype: int64"
      ]
     },
     "execution_count": 4,
     "metadata": {},
     "output_type": "execute_result"
    }
   ],
   "source": [
    "data.isnull().sum()\n"
   ]
  },
  {
   "cell_type": "code",
   "execution_count": null,
   "metadata": {
    "colab": {
     "base_uri": "https://localhost:8080/"
    },
    "id": "SHgEoUi6xNs9",
    "outputId": "9253d835-33f3-4ff3-b36e-3eda2a3af358"
   },
   "outputs": [
    {
     "data": {
      "text/plain": [
       "0"
      ]
     },
     "execution_count": 5,
     "metadata": {},
     "output_type": "execute_result"
    }
   ],
   "source": [
    "data.duplicated().sum()"
   ]
  },
  {
   "cell_type": "code",
   "execution_count": null,
   "metadata": {
    "id": "VbLEiVOfxQdh"
   },
   "outputs": [],
   "source": [
    "df = data.copy()"
   ]
  },
  {
   "cell_type": "code",
   "execution_count": null,
   "metadata": {
    "id": "4o3NZSV5GbYb"
   },
   "outputs": [],
   "source": [
    "# # Define bin edges and category labels\n",
    "# bin_edges = [0, 80000, 120000, 160000, 200000, float('inf')]\n",
    "# category_labels = ['Very Low', 'Low', 'Moderate', 'High', 'Very High']\n",
    "\n",
    "# # Create a new categorical variable based on Salary in USD\n",
    "# salary_categories = pd.cut(df[\"Salary in USD\"], bins=bin_edges, labels=category_labels, right=False)\n",
    "\n",
    "# # Convert to an ordinal categorical data type\n",
    "# salary_categories = pd.Categorical(salary_categories, categories=category_labels, ordered=True)\n",
    "\n",
    "# # Add the ordinal categorical variable to the DataFrame\n",
    "# df[\"Salary Category\"] = salary_categories\n",
    "\n",
    "# # Get frequency counts of each category\n",
    "# category_counts = df[\"Salary Category\"].value_counts()\n",
    "\n",
    "# # Display the frequency counts\n",
    "# print(category_counts)\n",
    "\n",
    "# # Display the first few rows of the DataFrame with the new category column\n",
    "# df.head()\n"
   ]
  },
  {
   "cell_type": "code",
   "execution_count": null,
   "metadata": {
    "id": "0Fb9Vu2YGcNV"
   },
   "outputs": [],
   "source": [
    "# # Create a pie chart to visualize the distribution of ordinal salary categories\n",
    "# plt.figure(figsize=(8, 8))\n",
    "# plt.pie(category_counts, labels=category_counts.index, autopct=\"%1.1f%%\", startangle=140, colors=sns.color_palette(\"Set3\", len(category_counts)))\n",
    "# plt.title(\"Distribution of Ordinal Salary Categories\")\n",
    "# plt.axis(\"equal\")  # Equal aspect ratio ensures that pie is drawn as a circle.\n",
    "\n",
    "# plt.show()\n",
    "\n",
    "# # Display the first few rows of the DataFrame with the new category column\n",
    "# df.head()"
   ]
  },
  {
   "cell_type": "code",
   "execution_count": null,
   "metadata": {
    "colab": {
     "base_uri": "https://localhost:8080/"
    },
    "id": "-ufIGjuKHUBh",
    "outputId": "f43f3058-8c78-4c7c-dbc5-0a0224e9036d"
   },
   "outputs": [
    {
     "data": {
      "text/plain": [
       "Full-Time    3641\n",
       "Contract       17\n",
       "Part-Time      14\n",
       "Freelance      11\n",
       "Name: Employment Type, dtype: int64"
      ]
     },
     "execution_count": 9,
     "metadata": {},
     "output_type": "execute_result"
    }
   ],
   "source": [
    "df['Employment Type'].value_counts()"
   ]
  },
  {
   "cell_type": "code",
   "execution_count": null,
   "metadata": {
    "colab": {
     "base_uri": "https://localhost:8080/"
    },
    "id": "dyLXJflDHkqi",
    "outputId": "9313cc05-5eb7-4031-cdd0-6e5d9d795cab"
   },
   "outputs": [
    {
     "data": {
      "text/plain": [
       "Data Engineer                    771\n",
       "Data Scientist                   697\n",
       "Data Analyst                     501\n",
       "Machine Learning Engineer        333\n",
       "Analytics Engineer               154\n",
       "                                ... \n",
       "Data DevOps Engineer               1\n",
       "Data Engineer 2                    1\n",
       "Analytics Engineering Manager      1\n",
       "Sales Data Analyst                 1\n",
       "Data Quality Engineer              1\n",
       "Name: Job Title, Length: 116, dtype: int64"
      ]
     },
     "execution_count": 10,
     "metadata": {},
     "output_type": "execute_result"
    }
   ],
   "source": [
    "df['Job Title'].value_counts()"
   ]
  },
  {
   "cell_type": "code",
   "execution_count": null,
   "metadata": {
    "colab": {
     "base_uri": "https://localhost:8080/"
    },
    "id": "TLlgbHDZHrQB",
    "outputId": "0f7a49de-e2dd-4cc2-cae3-783f9d23a5d4"
   },
   "outputs": [
    {
     "data": {
      "text/plain": [
       "Expert          2318\n",
       "Intermediate     887\n",
       "Junior           316\n",
       "Director         162\n",
       "Name: Expertise Level, dtype: int64"
      ]
     },
     "execution_count": 11,
     "metadata": {},
     "output_type": "execute_result"
    }
   ],
   "source": [
    "df['Expertise Level'].value_counts()"
   ]
  },
  {
   "cell_type": "code",
   "execution_count": null,
   "metadata": {
    "colab": {
     "base_uri": "https://localhost:8080/"
    },
    "id": "-T5VJgvWH-I3",
    "outputId": "ed54fa3a-5ee7-46e5-aad0-1ab4a8e77ba7"
   },
   "outputs": [
    {
     "data": {
      "text/plain": [
       "United States         2791\n",
       "United Kingdom         273\n",
       "Canada                 135\n",
       "Germany                 69\n",
       "Spain                   52\n",
       "                      ... \n",
       "Ecuador                  1\n",
       "Andorra                  1\n",
       "Korea, Republic of       1\n",
       "Qatar                    1\n",
       "Malta                    1\n",
       "Name: Company Location, Length: 72, dtype: int64"
      ]
     },
     "execution_count": 12,
     "metadata": {},
     "output_type": "execute_result"
    }
   ],
   "source": [
    "df['Company Location'].value_counts()"
   ]
  },
  {
   "cell_type": "code",
   "execution_count": null,
   "metadata": {
    "colab": {
     "base_uri": "https://localhost:8080/"
    },
    "id": "PyI0WXIvICEv",
    "outputId": "52fba197-9a69-4a1f-e33e-f77a3f422ef3"
   },
   "outputs": [
    {
     "data": {
      "text/plain": [
       "United States     2746\n",
       "United Kingdom     267\n",
       "Canada             132\n",
       "Germany             63\n",
       "India               59\n",
       "                  ... \n",
       "Cyprus               1\n",
       "Kuwait               1\n",
       "Georgia              1\n",
       "South Africa         1\n",
       "Malta                1\n",
       "Name: Employee Residence, Length: 84, dtype: int64"
      ]
     },
     "execution_count": 13,
     "metadata": {},
     "output_type": "execute_result"
    }
   ],
   "source": [
    "df['Employee Residence'].value_counts()"
   ]
  },
  {
   "cell_type": "code",
   "execution_count": null,
   "metadata": {
    "colab": {
     "base_uri": "https://localhost:8080/"
    },
    "id": "h0IxjJ_7IIA-",
    "outputId": "aff5c13d-bfdc-4fee-b0fa-deca13ee6b43"
   },
   "outputs": [
    {
     "data": {
      "text/plain": [
       "Medium    3062\n",
       "Large      467\n",
       "Small      154\n",
       "Name: Company Size, dtype: int64"
      ]
     },
     "execution_count": 14,
     "metadata": {},
     "output_type": "execute_result"
    }
   ],
   "source": [
    "df['Company Size'].value_counts()"
   ]
  },
  {
   "cell_type": "code",
   "execution_count": null,
   "metadata": {
    "colab": {
     "base_uri": "https://localhost:8080/"
    },
    "id": "EfKovBJYIN1f",
    "outputId": "45be036d-0b45-414d-9573-eab49bcc12c5"
   },
   "outputs": [
    {
     "data": {
      "text/plain": [
       "2023    2376\n",
       "2022    1019\n",
       "2021     215\n",
       "2020      73\n",
       "Name: Year, dtype: int64"
      ]
     },
     "execution_count": 15,
     "metadata": {},
     "output_type": "execute_result"
    }
   ],
   "source": [
    "df['Year'].value_counts()"
   ]
  },
  {
   "cell_type": "code",
   "execution_count": null,
   "metadata": {
    "id": "WYsvp1JHIReP"
   },
   "outputs": [],
   "source": [
    "### Creating New Varaible \"is_expatriate\"\n",
    "\n",
    "df['is_expatriate'] = df['Company Location'] != df['Employee Residence']\n",
    "df['is_expatriate'] = df['is_expatriate'].map({True: 'Yes', False: 'No'})"
   ]
  },
  {
   "cell_type": "code",
   "execution_count": null,
   "metadata": {
    "colab": {
     "base_uri": "https://localhost:8080/"
    },
    "id": "6VMX12Y9Igdu",
    "outputId": "d7401972-af52-4f26-d18f-6cb2bd45c961"
   },
   "outputs": [
    {
     "data": {
      "text/plain": [
       "No     3573\n",
       "Yes     110\n",
       "Name: is_expatriate, dtype: int64"
      ]
     },
     "execution_count": 17,
     "metadata": {},
     "output_type": "execute_result"
    }
   ],
   "source": [
    "df['is_expatriate'].value_counts()"
   ]
  },
  {
   "cell_type": "code",
   "execution_count": null,
   "metadata": {
    "colab": {
     "base_uri": "https://localhost:8080/"
    },
    "id": "BpYSf4lfIg6u",
    "outputId": "c47af3a0-2f56-4a4d-fe58-65847d2f5390"
   },
   "outputs": [
    {
     "name": "stdout",
     "output_type": "stream",
     "text": [
      "       Job Title Employment Type Experience Level Expertise Level  Salary  \\\n",
      "0   AI Scientist       Full-Time           Senior          Expert   60000   \n",
      "1  Data Engineer       Full-Time              Mid    Intermediate  160000   \n",
      "2  Data Engineer       Full-Time              Mid    Intermediate  140000   \n",
      "3  Data Engineer       Full-Time              Mid    Intermediate  139152   \n",
      "4  Data Engineer       Full-Time              Mid    Intermediate   82452   \n",
      "\n",
      "        Salary Currency Company Location  Salary in USD Employee Residence  \\\n",
      "0                  Euro          Germany          64781            Germany   \n",
      "1  United States Dollar    United States         160000      United States   \n",
      "2  United States Dollar    United States         140000      United States   \n",
      "3  United States Dollar    United States         139152      United States   \n",
      "4  United States Dollar    United States          82452      United States   \n",
      "\n",
      "  Company Size  Year is_expatriate  \n",
      "0        Large  2023            No  \n",
      "1       Medium  2023            No  \n",
      "2       Medium  2023            No  \n",
      "3        Large  2023            No  \n",
      "4        Large  2023            No  \n"
     ]
    }
   ],
   "source": [
    "### Lumping Low-frequency categroies\n",
    "\n",
    "## Employee Residence\n",
    "\n",
    "frequency_threshold = 50  # Adjust this threshold as needed\n",
    "\n",
    "residence_counts = df['Employee Residence'].value_counts()\n",
    "\n",
    "# Identify categories with low frequency\n",
    "low_frequency_categories = residence_counts[residence_counts < frequency_threshold].index\n",
    "\n",
    "# Create a new category name for low-frequency categories\n",
    "new_category_name = 'Other'  # Adjust the new category name as desired\n",
    "\n",
    "# Group low-frequency categories into the new category\n",
    "df.loc[df['Employee Residence'].isin(low_frequency_categories), 'Employee Residence'] = new_category_name\n",
    "\n",
    "# Display the first few rows of the updated DataFrame\n",
    "print(df.head())"
   ]
  },
  {
   "cell_type": "code",
   "execution_count": null,
   "metadata": {
    "colab": {
     "base_uri": "https://localhost:8080/"
    },
    "id": "PU91lWpYJCFP",
    "outputId": "4ddd80b2-0972-4c05-87a9-4fd1871461da"
   },
   "outputs": [
    {
     "data": {
      "text/plain": [
       "United States     2746\n",
       "Other              361\n",
       "United Kingdom     267\n",
       "Canada             132\n",
       "Germany             63\n",
       "India               59\n",
       "Spain               55\n",
       "Name: Employee Residence, dtype: int64"
      ]
     },
     "execution_count": 19,
     "metadata": {},
     "output_type": "execute_result"
    }
   ],
   "source": [
    "df['Employee Residence'].value_counts()"
   ]
  },
  {
   "cell_type": "code",
   "execution_count": null,
   "metadata": {
    "colab": {
     "base_uri": "https://localhost:8080/"
    },
    "id": "OJb7-mKdJLCd",
    "outputId": "17930086-2656-474e-b51b-de2aaf0bdd61"
   },
   "outputs": [
    {
     "name": "stdout",
     "output_type": "stream",
     "text": [
      "       Job Title Employment Type Experience Level Expertise Level  Salary  \\\n",
      "0   AI Scientist       Full-Time           Senior          Expert   60000   \n",
      "1  Data Engineer       Full-Time              Mid    Intermediate  160000   \n",
      "2  Data Engineer       Full-Time              Mid    Intermediate  140000   \n",
      "3  Data Engineer       Full-Time              Mid    Intermediate  139152   \n",
      "4  Data Engineer       Full-Time              Mid    Intermediate   82452   \n",
      "\n",
      "        Salary Currency Company Location  Salary in USD Employee Residence  \\\n",
      "0                  Euro          Germany          64781            Germany   \n",
      "1  United States Dollar    United States         160000      United States   \n",
      "2  United States Dollar    United States         140000      United States   \n",
      "3  United States Dollar    United States         139152      United States   \n",
      "4  United States Dollar    United States          82452      United States   \n",
      "\n",
      "  Company Size  Year is_expatriate  \n",
      "0        Large  2023            No  \n",
      "1       Medium  2023            No  \n",
      "2       Medium  2023            No  \n",
      "3        Large  2023            No  \n",
      "4        Large  2023            No  \n"
     ]
    }
   ],
   "source": [
    "## Company Location\n",
    "\n",
    "frequency_threshold = 50  # Adjust this threshold as needed\n",
    "\n",
    "comlocation_counts = df['Company Location'].value_counts()\n",
    "\n",
    "# Identify categories with low frequency\n",
    "low_frequency_categories = comlocation_counts[comlocation_counts < frequency_threshold].index\n",
    "\n",
    "# Create a new category name for low-frequency categories\n",
    "new_category_name = 'Other'  # Adjust the new category name as desired\n",
    "\n",
    "# Group low-frequency categories into the new category\n",
    "df.loc[df['Company Location'].isin(low_frequency_categories), 'Company Location'] = new_category_name\n",
    "\n",
    "# Display the first few rows of the updated DataFrame\n",
    "print(df.head())"
   ]
  },
  {
   "cell_type": "code",
   "execution_count": null,
   "metadata": {
    "colab": {
     "base_uri": "https://localhost:8080/"
    },
    "id": "lGGozfVtJ4mk",
    "outputId": "68ade62a-0b18-47db-f5d0-1e184ca9b6eb"
   },
   "outputs": [
    {
     "data": {
      "text/plain": [
       "United States     2791\n",
       "Other              363\n",
       "United Kingdom     273\n",
       "Canada             135\n",
       "Germany             69\n",
       "Spain               52\n",
       "Name: Company Location, dtype: int64"
      ]
     },
     "execution_count": 21,
     "metadata": {},
     "output_type": "execute_result"
    }
   ],
   "source": [
    "df['Company Location'].value_counts()"
   ]
  },
  {
   "cell_type": "code",
   "execution_count": null,
   "metadata": {
    "colab": {
     "base_uri": "https://localhost:8080/"
    },
    "id": "ZM08VRIpKF88",
    "outputId": "51c9f50f-f470-42cb-94cf-3dd39e8b8b10"
   },
   "outputs": [
    {
     "name": "stdout",
     "output_type": "stream",
     "text": [
      "       Job Title Employment Type Experience Level Expertise Level  Salary  \\\n",
      "0          Other       Full-Time           Senior          Expert   60000   \n",
      "1  Data Engineer       Full-Time              Mid    Intermediate  160000   \n",
      "2  Data Engineer       Full-Time              Mid    Intermediate  140000   \n",
      "3  Data Engineer       Full-Time              Mid    Intermediate  139152   \n",
      "4  Data Engineer       Full-Time              Mid    Intermediate   82452   \n",
      "\n",
      "        Salary Currency Company Location  Salary in USD Employee Residence  \\\n",
      "0                  Euro          Germany          64781            Germany   \n",
      "1  United States Dollar    United States         160000      United States   \n",
      "2  United States Dollar    United States         140000      United States   \n",
      "3  United States Dollar    United States         139152      United States   \n",
      "4  United States Dollar    United States          82452      United States   \n",
      "\n",
      "  Company Size  Year is_expatriate  \n",
      "0        Large  2023            No  \n",
      "1       Medium  2023            No  \n",
      "2       Medium  2023            No  \n",
      "3        Large  2023            No  \n",
      "4        Large  2023            No  \n"
     ]
    }
   ],
   "source": [
    "## Job Title\n",
    "\n",
    "frequency_threshold = 50  # Adjust this threshold as needed\n",
    "\n",
    "job_counts = df['Job Title'].value_counts()\n",
    "\n",
    "# Identify categories with low frequency\n",
    "low_frequency_categories = job_counts[job_counts < frequency_threshold].index\n",
    "\n",
    "# Create a new category name for low-frequency categories\n",
    "new_category_name = 'Other'  # Adjust the new category name as desired\n",
    "\n",
    "# Group low-frequency categories into the new category\n",
    "df.loc[df['Job Title'].isin(low_frequency_categories), 'Job Title'] = new_category_name\n",
    "\n",
    "# Display the first few rows of the updated DataFrame\n",
    "print(df.head())"
   ]
  },
  {
   "cell_type": "code",
   "execution_count": null,
   "metadata": {
    "colab": {
     "base_uri": "https://localhost:8080/"
    },
    "id": "myuVdVvkKhQf",
    "outputId": "f5d33819-d08f-4937-f258-c4753ef56c16"
   },
   "outputs": [
    {
     "data": {
      "text/plain": [
       "Data Engineer                768\n",
       "Other                        742\n",
       "Data Scientist               693\n",
       "Data Analyst                 496\n",
       "Machine Learning Engineer    330\n",
       "Analytics Engineer           154\n",
       "Research Scientist           115\n",
       "Data Architect                89\n",
       "Research Engineer             69\n",
       "ML Engineer                   65\n",
       "Data Science Manager          61\n",
       "Applied Scientist             59\n",
       "Name: Job Title, dtype: int64"
      ]
     },
     "execution_count": 181,
     "metadata": {},
     "output_type": "execute_result"
    }
   ],
   "source": [
    "df['Job Title'].value_counts()"
   ]
  },
  {
   "cell_type": "code",
   "execution_count": null,
   "metadata": {
    "colab": {
     "base_uri": "https://localhost:8080/",
     "height": 363
    },
    "id": "4koX4LF5Kl6A",
    "outputId": "1b1f4376-5b92-4c81-8217-5cae3a72bb6f"
   },
   "outputs": [
    {
     "data": {
      "text/html": [
       "\n",
       "  <div id=\"df-9a3da2e0-463a-4c77-bba4-c337b73ad165\" class=\"colab-df-container\">\n",
       "    <div>\n",
       "<style scoped>\n",
       "    .dataframe tbody tr th:only-of-type {\n",
       "        vertical-align: middle;\n",
       "    }\n",
       "\n",
       "    .dataframe tbody tr th {\n",
       "        vertical-align: top;\n",
       "    }\n",
       "\n",
       "    .dataframe thead th {\n",
       "        text-align: right;\n",
       "    }\n",
       "</style>\n",
       "<table border=\"1\" class=\"dataframe\">\n",
       "  <thead>\n",
       "    <tr style=\"text-align: right;\">\n",
       "      <th></th>\n",
       "      <th>Job Title</th>\n",
       "      <th>Employment Type</th>\n",
       "      <th>Experience Level</th>\n",
       "      <th>Expertise Level</th>\n",
       "      <th>Salary</th>\n",
       "      <th>Salary Currency</th>\n",
       "      <th>Company Location</th>\n",
       "      <th>Salary in USD</th>\n",
       "      <th>Employee Residence</th>\n",
       "      <th>Company Size</th>\n",
       "      <th>Year</th>\n",
       "      <th>is_expatriate</th>\n",
       "    </tr>\n",
       "  </thead>\n",
       "  <tbody>\n",
       "    <tr>\n",
       "      <th>0</th>\n",
       "      <td>Other</td>\n",
       "      <td>Full-Time</td>\n",
       "      <td>Senior</td>\n",
       "      <td>Expert</td>\n",
       "      <td>60000</td>\n",
       "      <td>Euro</td>\n",
       "      <td>Germany</td>\n",
       "      <td>64781</td>\n",
       "      <td>Germany</td>\n",
       "      <td>Large</td>\n",
       "      <td>2023</td>\n",
       "      <td>No</td>\n",
       "    </tr>\n",
       "    <tr>\n",
       "      <th>1</th>\n",
       "      <td>Data Engineer</td>\n",
       "      <td>Full-Time</td>\n",
       "      <td>Mid</td>\n",
       "      <td>Intermediate</td>\n",
       "      <td>160000</td>\n",
       "      <td>United States Dollar</td>\n",
       "      <td>United States</td>\n",
       "      <td>160000</td>\n",
       "      <td>United States</td>\n",
       "      <td>Medium</td>\n",
       "      <td>2023</td>\n",
       "      <td>No</td>\n",
       "    </tr>\n",
       "    <tr>\n",
       "      <th>2</th>\n",
       "      <td>Data Engineer</td>\n",
       "      <td>Full-Time</td>\n",
       "      <td>Mid</td>\n",
       "      <td>Intermediate</td>\n",
       "      <td>140000</td>\n",
       "      <td>United States Dollar</td>\n",
       "      <td>United States</td>\n",
       "      <td>140000</td>\n",
       "      <td>United States</td>\n",
       "      <td>Medium</td>\n",
       "      <td>2023</td>\n",
       "      <td>No</td>\n",
       "    </tr>\n",
       "    <tr>\n",
       "      <th>3</th>\n",
       "      <td>Data Engineer</td>\n",
       "      <td>Full-Time</td>\n",
       "      <td>Mid</td>\n",
       "      <td>Intermediate</td>\n",
       "      <td>139152</td>\n",
       "      <td>United States Dollar</td>\n",
       "      <td>United States</td>\n",
       "      <td>139152</td>\n",
       "      <td>United States</td>\n",
       "      <td>Large</td>\n",
       "      <td>2023</td>\n",
       "      <td>No</td>\n",
       "    </tr>\n",
       "    <tr>\n",
       "      <th>4</th>\n",
       "      <td>Data Engineer</td>\n",
       "      <td>Full-Time</td>\n",
       "      <td>Mid</td>\n",
       "      <td>Intermediate</td>\n",
       "      <td>82452</td>\n",
       "      <td>United States Dollar</td>\n",
       "      <td>United States</td>\n",
       "      <td>82452</td>\n",
       "      <td>United States</td>\n",
       "      <td>Large</td>\n",
       "      <td>2023</td>\n",
       "      <td>No</td>\n",
       "    </tr>\n",
       "    <tr>\n",
       "      <th>5</th>\n",
       "      <td>Other</td>\n",
       "      <td>Full-Time</td>\n",
       "      <td>Senior</td>\n",
       "      <td>Expert</td>\n",
       "      <td>204500</td>\n",
       "      <td>United States Dollar</td>\n",
       "      <td>United States</td>\n",
       "      <td>204500</td>\n",
       "      <td>United States</td>\n",
       "      <td>Medium</td>\n",
       "      <td>2023</td>\n",
       "      <td>No</td>\n",
       "    </tr>\n",
       "    <tr>\n",
       "      <th>6</th>\n",
       "      <td>Other</td>\n",
       "      <td>Full-Time</td>\n",
       "      <td>Senior</td>\n",
       "      <td>Expert</td>\n",
       "      <td>142200</td>\n",
       "      <td>United States Dollar</td>\n",
       "      <td>United States</td>\n",
       "      <td>142200</td>\n",
       "      <td>United States</td>\n",
       "      <td>Medium</td>\n",
       "      <td>2023</td>\n",
       "      <td>No</td>\n",
       "    </tr>\n",
       "    <tr>\n",
       "      <th>7</th>\n",
       "      <td>Other</td>\n",
       "      <td>Full-Time</td>\n",
       "      <td>Mid</td>\n",
       "      <td>Intermediate</td>\n",
       "      <td>85000</td>\n",
       "      <td>United States Dollar</td>\n",
       "      <td>United States</td>\n",
       "      <td>85000</td>\n",
       "      <td>United States</td>\n",
       "      <td>Medium</td>\n",
       "      <td>2023</td>\n",
       "      <td>No</td>\n",
       "    </tr>\n",
       "    <tr>\n",
       "      <th>8</th>\n",
       "      <td>Other</td>\n",
       "      <td>Full-Time</td>\n",
       "      <td>Mid</td>\n",
       "      <td>Intermediate</td>\n",
       "      <td>65000</td>\n",
       "      <td>United States Dollar</td>\n",
       "      <td>United States</td>\n",
       "      <td>65000</td>\n",
       "      <td>United States</td>\n",
       "      <td>Medium</td>\n",
       "      <td>2023</td>\n",
       "      <td>No</td>\n",
       "    </tr>\n",
       "    <tr>\n",
       "      <th>9</th>\n",
       "      <td>Data Analyst</td>\n",
       "      <td>Full-Time</td>\n",
       "      <td>Senior</td>\n",
       "      <td>Expert</td>\n",
       "      <td>139000</td>\n",
       "      <td>United States Dollar</td>\n",
       "      <td>United States</td>\n",
       "      <td>139000</td>\n",
       "      <td>United States</td>\n",
       "      <td>Medium</td>\n",
       "      <td>2023</td>\n",
       "      <td>No</td>\n",
       "    </tr>\n",
       "  </tbody>\n",
       "</table>\n",
       "</div>\n",
       "    <div class=\"colab-df-buttons\">\n",
       "\n",
       "  <div class=\"colab-df-container\">\n",
       "    <button class=\"colab-df-convert\" onclick=\"convertToInteractive('df-9a3da2e0-463a-4c77-bba4-c337b73ad165')\"\n",
       "            title=\"Convert this dataframe to an interactive table.\"\n",
       "            style=\"display:none;\">\n",
       "\n",
       "  <svg xmlns=\"http://www.w3.org/2000/svg\" height=\"24px\" viewBox=\"0 -960 960 960\">\n",
       "    <path d=\"M120-120v-720h720v720H120Zm60-500h600v-160H180v160Zm220 220h160v-160H400v160Zm0 220h160v-160H400v160ZM180-400h160v-160H180v160Zm440 0h160v-160H620v160ZM180-180h160v-160H180v160Zm440 0h160v-160H620v160Z\"/>\n",
       "  </svg>\n",
       "    </button>\n",
       "\n",
       "  <style>\n",
       "    .colab-df-container {\n",
       "      display:flex;\n",
       "      gap: 12px;\n",
       "    }\n",
       "\n",
       "    .colab-df-convert {\n",
       "      background-color: #E8F0FE;\n",
       "      border: none;\n",
       "      border-radius: 50%;\n",
       "      cursor: pointer;\n",
       "      display: none;\n",
       "      fill: #1967D2;\n",
       "      height: 32px;\n",
       "      padding: 0 0 0 0;\n",
       "      width: 32px;\n",
       "    }\n",
       "\n",
       "    .colab-df-convert:hover {\n",
       "      background-color: #E2EBFA;\n",
       "      box-shadow: 0px 1px 2px rgba(60, 64, 67, 0.3), 0px 1px 3px 1px rgba(60, 64, 67, 0.15);\n",
       "      fill: #174EA6;\n",
       "    }\n",
       "\n",
       "    .colab-df-buttons div {\n",
       "      margin-bottom: 4px;\n",
       "    }\n",
       "\n",
       "    [theme=dark] .colab-df-convert {\n",
       "      background-color: #3B4455;\n",
       "      fill: #D2E3FC;\n",
       "    }\n",
       "\n",
       "    [theme=dark] .colab-df-convert:hover {\n",
       "      background-color: #434B5C;\n",
       "      box-shadow: 0px 1px 3px 1px rgba(0, 0, 0, 0.15);\n",
       "      filter: drop-shadow(0px 1px 2px rgba(0, 0, 0, 0.3));\n",
       "      fill: #FFFFFF;\n",
       "    }\n",
       "  </style>\n",
       "\n",
       "    <script>\n",
       "      const buttonEl =\n",
       "        document.querySelector('#df-9a3da2e0-463a-4c77-bba4-c337b73ad165 button.colab-df-convert');\n",
       "      buttonEl.style.display =\n",
       "        google.colab.kernel.accessAllowed ? 'block' : 'none';\n",
       "\n",
       "      async function convertToInteractive(key) {\n",
       "        const element = document.querySelector('#df-9a3da2e0-463a-4c77-bba4-c337b73ad165');\n",
       "        const dataTable =\n",
       "          await google.colab.kernel.invokeFunction('convertToInteractive',\n",
       "                                                    [key], {});\n",
       "        if (!dataTable) return;\n",
       "\n",
       "        const docLinkHtml = 'Like what you see? Visit the ' +\n",
       "          '<a target=\"_blank\" href=https://colab.research.google.com/notebooks/data_table.ipynb>data table notebook</a>'\n",
       "          + ' to learn more about interactive tables.';\n",
       "        element.innerHTML = '';\n",
       "        dataTable['output_type'] = 'display_data';\n",
       "        await google.colab.output.renderOutput(dataTable, element);\n",
       "        const docLink = document.createElement('div');\n",
       "        docLink.innerHTML = docLinkHtml;\n",
       "        element.appendChild(docLink);\n",
       "      }\n",
       "    </script>\n",
       "  </div>\n",
       "\n",
       "\n",
       "<div id=\"df-3d38950c-0cdf-4b92-9b85-e4d316a99f6f\">\n",
       "  <button class=\"colab-df-quickchart\" onclick=\"quickchart('df-3d38950c-0cdf-4b92-9b85-e4d316a99f6f')\"\n",
       "            title=\"Suggest charts.\"\n",
       "            style=\"display:none;\">\n",
       "\n",
       "<svg xmlns=\"http://www.w3.org/2000/svg\" height=\"24px\"viewBox=\"0 0 24 24\"\n",
       "     width=\"24px\">\n",
       "    <g>\n",
       "        <path d=\"M19 3H5c-1.1 0-2 .9-2 2v14c0 1.1.9 2 2 2h14c1.1 0 2-.9 2-2V5c0-1.1-.9-2-2-2zM9 17H7v-7h2v7zm4 0h-2V7h2v10zm4 0h-2v-4h2v4z\"/>\n",
       "    </g>\n",
       "</svg>\n",
       "  </button>\n",
       "\n",
       "<style>\n",
       "  .colab-df-quickchart {\n",
       "    background-color: #E8F0FE;\n",
       "    border: none;\n",
       "    border-radius: 50%;\n",
       "    cursor: pointer;\n",
       "    display: none;\n",
       "    fill: #1967D2;\n",
       "    height: 32px;\n",
       "    padding: 0 0 0 0;\n",
       "    width: 32px;\n",
       "  }\n",
       "\n",
       "  .colab-df-quickchart:hover {\n",
       "    background-color: #E2EBFA;\n",
       "    box-shadow: 0px 1px 2px rgba(60, 64, 67, 0.3), 0px 1px 3px 1px rgba(60, 64, 67, 0.15);\n",
       "    fill: #174EA6;\n",
       "  }\n",
       "\n",
       "  [theme=dark] .colab-df-quickchart {\n",
       "    background-color: #3B4455;\n",
       "    fill: #D2E3FC;\n",
       "  }\n",
       "\n",
       "  [theme=dark] .colab-df-quickchart:hover {\n",
       "    background-color: #434B5C;\n",
       "    box-shadow: 0px 1px 3px 1px rgba(0, 0, 0, 0.15);\n",
       "    filter: drop-shadow(0px 1px 2px rgba(0, 0, 0, 0.3));\n",
       "    fill: #FFFFFF;\n",
       "  }\n",
       "</style>\n",
       "\n",
       "  <script>\n",
       "    async function quickchart(key) {\n",
       "      const charts = await google.colab.kernel.invokeFunction(\n",
       "          'suggestCharts', [key], {});\n",
       "    }\n",
       "    (() => {\n",
       "      let quickchartButtonEl =\n",
       "        document.querySelector('#df-3d38950c-0cdf-4b92-9b85-e4d316a99f6f button');\n",
       "      quickchartButtonEl.style.display =\n",
       "        google.colab.kernel.accessAllowed ? 'block' : 'none';\n",
       "    })();\n",
       "  </script>\n",
       "</div>\n",
       "    </div>\n",
       "  </div>\n"
      ],
      "text/plain": [
       "       Job Title Employment Type Experience Level Expertise Level  Salary  \\\n",
       "0          Other       Full-Time           Senior          Expert   60000   \n",
       "1  Data Engineer       Full-Time              Mid    Intermediate  160000   \n",
       "2  Data Engineer       Full-Time              Mid    Intermediate  140000   \n",
       "3  Data Engineer       Full-Time              Mid    Intermediate  139152   \n",
       "4  Data Engineer       Full-Time              Mid    Intermediate   82452   \n",
       "5          Other       Full-Time           Senior          Expert  204500   \n",
       "6          Other       Full-Time           Senior          Expert  142200   \n",
       "7          Other       Full-Time              Mid    Intermediate   85000   \n",
       "8          Other       Full-Time              Mid    Intermediate   65000   \n",
       "9   Data Analyst       Full-Time           Senior          Expert  139000   \n",
       "\n",
       "        Salary Currency Company Location  Salary in USD Employee Residence  \\\n",
       "0                  Euro          Germany          64781            Germany   \n",
       "1  United States Dollar    United States         160000      United States   \n",
       "2  United States Dollar    United States         140000      United States   \n",
       "3  United States Dollar    United States         139152      United States   \n",
       "4  United States Dollar    United States          82452      United States   \n",
       "5  United States Dollar    United States         204500      United States   \n",
       "6  United States Dollar    United States         142200      United States   \n",
       "7  United States Dollar    United States          85000      United States   \n",
       "8  United States Dollar    United States          65000      United States   \n",
       "9  United States Dollar    United States         139000      United States   \n",
       "\n",
       "  Company Size  Year is_expatriate  \n",
       "0        Large  2023            No  \n",
       "1       Medium  2023            No  \n",
       "2       Medium  2023            No  \n",
       "3        Large  2023            No  \n",
       "4        Large  2023            No  \n",
       "5       Medium  2023            No  \n",
       "6       Medium  2023            No  \n",
       "7       Medium  2023            No  \n",
       "8       Medium  2023            No  \n",
       "9       Medium  2023            No  "
      ]
     },
     "execution_count": 107,
     "metadata": {},
     "output_type": "execute_result"
    }
   ],
   "source": [
    "df.head(10)"
   ]
  },
  {
   "cell_type": "code",
   "execution_count": null,
   "metadata": {
    "id": "sgAPbzCMclTm"
   },
   "outputs": [],
   "source": [
    "df = df[df['Employment Type'] == 'Full-Time']\n",
    "df = df.drop('Employment Type', axis=1)"
   ]
  },
  {
   "cell_type": "code",
   "execution_count": null,
   "metadata": {
    "id": "M3QcaQaSKr0V"
   },
   "outputs": [],
   "source": [
    "## prepare data\n",
    "\n",
    "X = df.drop(['Salary', 'Salary Currency','Salary in USD'], axis=1)\n",
    "y = df['Salary in USD']"
   ]
  },
  {
   "cell_type": "code",
   "execution_count": null,
   "metadata": {
    "colab": {
     "base_uri": "https://localhost:8080/",
     "height": 423
    },
    "id": "wTgrLs-LLEd-",
    "outputId": "151d63b1-4ec6-48d9-92e9-de0f73f37a5d"
   },
   "outputs": [
    {
     "data": {
      "text/html": [
       "\n",
       "  <div id=\"df-e9bd16cc-a099-4ad6-8767-620e04b04515\" class=\"colab-df-container\">\n",
       "    <div>\n",
       "<style scoped>\n",
       "    .dataframe tbody tr th:only-of-type {\n",
       "        vertical-align: middle;\n",
       "    }\n",
       "\n",
       "    .dataframe tbody tr th {\n",
       "        vertical-align: top;\n",
       "    }\n",
       "\n",
       "    .dataframe thead th {\n",
       "        text-align: right;\n",
       "    }\n",
       "</style>\n",
       "<table border=\"1\" class=\"dataframe\">\n",
       "  <thead>\n",
       "    <tr style=\"text-align: right;\">\n",
       "      <th></th>\n",
       "      <th>Job Title</th>\n",
       "      <th>Experience Level</th>\n",
       "      <th>Expertise Level</th>\n",
       "      <th>Company Location</th>\n",
       "      <th>Employee Residence</th>\n",
       "      <th>Company Size</th>\n",
       "      <th>Year</th>\n",
       "      <th>is_expatriate</th>\n",
       "    </tr>\n",
       "  </thead>\n",
       "  <tbody>\n",
       "    <tr>\n",
       "      <th>0</th>\n",
       "      <td>Other</td>\n",
       "      <td>Senior</td>\n",
       "      <td>Expert</td>\n",
       "      <td>Germany</td>\n",
       "      <td>Germany</td>\n",
       "      <td>Large</td>\n",
       "      <td>2023</td>\n",
       "      <td>No</td>\n",
       "    </tr>\n",
       "    <tr>\n",
       "      <th>1</th>\n",
       "      <td>Data Engineer</td>\n",
       "      <td>Mid</td>\n",
       "      <td>Intermediate</td>\n",
       "      <td>United States</td>\n",
       "      <td>United States</td>\n",
       "      <td>Medium</td>\n",
       "      <td>2023</td>\n",
       "      <td>No</td>\n",
       "    </tr>\n",
       "    <tr>\n",
       "      <th>2</th>\n",
       "      <td>Data Engineer</td>\n",
       "      <td>Mid</td>\n",
       "      <td>Intermediate</td>\n",
       "      <td>United States</td>\n",
       "      <td>United States</td>\n",
       "      <td>Medium</td>\n",
       "      <td>2023</td>\n",
       "      <td>No</td>\n",
       "    </tr>\n",
       "    <tr>\n",
       "      <th>3</th>\n",
       "      <td>Data Engineer</td>\n",
       "      <td>Mid</td>\n",
       "      <td>Intermediate</td>\n",
       "      <td>United States</td>\n",
       "      <td>United States</td>\n",
       "      <td>Large</td>\n",
       "      <td>2023</td>\n",
       "      <td>No</td>\n",
       "    </tr>\n",
       "    <tr>\n",
       "      <th>4</th>\n",
       "      <td>Data Engineer</td>\n",
       "      <td>Mid</td>\n",
       "      <td>Intermediate</td>\n",
       "      <td>United States</td>\n",
       "      <td>United States</td>\n",
       "      <td>Large</td>\n",
       "      <td>2023</td>\n",
       "      <td>No</td>\n",
       "    </tr>\n",
       "    <tr>\n",
       "      <th>...</th>\n",
       "      <td>...</td>\n",
       "      <td>...</td>\n",
       "      <td>...</td>\n",
       "      <td>...</td>\n",
       "      <td>...</td>\n",
       "      <td>...</td>\n",
       "      <td>...</td>\n",
       "      <td>...</td>\n",
       "    </tr>\n",
       "    <tr>\n",
       "      <th>3677</th>\n",
       "      <td>Other</td>\n",
       "      <td>Senior</td>\n",
       "      <td>Expert</td>\n",
       "      <td>United States</td>\n",
       "      <td>United States</td>\n",
       "      <td>Large</td>\n",
       "      <td>2021</td>\n",
       "      <td>No</td>\n",
       "    </tr>\n",
       "    <tr>\n",
       "      <th>3678</th>\n",
       "      <td>Data Scientist</td>\n",
       "      <td>Senior</td>\n",
       "      <td>Expert</td>\n",
       "      <td>United States</td>\n",
       "      <td>United States</td>\n",
       "      <td>Large</td>\n",
       "      <td>2020</td>\n",
       "      <td>No</td>\n",
       "    </tr>\n",
       "    <tr>\n",
       "      <th>3679</th>\n",
       "      <td>Other</td>\n",
       "      <td>Mid</td>\n",
       "      <td>Intermediate</td>\n",
       "      <td>United States</td>\n",
       "      <td>United States</td>\n",
       "      <td>Large</td>\n",
       "      <td>2021</td>\n",
       "      <td>No</td>\n",
       "    </tr>\n",
       "    <tr>\n",
       "      <th>3680</th>\n",
       "      <td>Data Scientist</td>\n",
       "      <td>Entry</td>\n",
       "      <td>Junior</td>\n",
       "      <td>United States</td>\n",
       "      <td>United States</td>\n",
       "      <td>Small</td>\n",
       "      <td>2020</td>\n",
       "      <td>No</td>\n",
       "    </tr>\n",
       "    <tr>\n",
       "      <th>3682</th>\n",
       "      <td>Data Science Manager</td>\n",
       "      <td>Senior</td>\n",
       "      <td>Expert</td>\n",
       "      <td>Other</td>\n",
       "      <td>India</td>\n",
       "      <td>Large</td>\n",
       "      <td>2021</td>\n",
       "      <td>No</td>\n",
       "    </tr>\n",
       "  </tbody>\n",
       "</table>\n",
       "<p>3641 rows × 8 columns</p>\n",
       "</div>\n",
       "    <div class=\"colab-df-buttons\">\n",
       "\n",
       "  <div class=\"colab-df-container\">\n",
       "    <button class=\"colab-df-convert\" onclick=\"convertToInteractive('df-e9bd16cc-a099-4ad6-8767-620e04b04515')\"\n",
       "            title=\"Convert this dataframe to an interactive table.\"\n",
       "            style=\"display:none;\">\n",
       "\n",
       "  <svg xmlns=\"http://www.w3.org/2000/svg\" height=\"24px\" viewBox=\"0 -960 960 960\">\n",
       "    <path d=\"M120-120v-720h720v720H120Zm60-500h600v-160H180v160Zm220 220h160v-160H400v160Zm0 220h160v-160H400v160ZM180-400h160v-160H180v160Zm440 0h160v-160H620v160ZM180-180h160v-160H180v160Zm440 0h160v-160H620v160Z\"/>\n",
       "  </svg>\n",
       "    </button>\n",
       "\n",
       "  <style>\n",
       "    .colab-df-container {\n",
       "      display:flex;\n",
       "      gap: 12px;\n",
       "    }\n",
       "\n",
       "    .colab-df-convert {\n",
       "      background-color: #E8F0FE;\n",
       "      border: none;\n",
       "      border-radius: 50%;\n",
       "      cursor: pointer;\n",
       "      display: none;\n",
       "      fill: #1967D2;\n",
       "      height: 32px;\n",
       "      padding: 0 0 0 0;\n",
       "      width: 32px;\n",
       "    }\n",
       "\n",
       "    .colab-df-convert:hover {\n",
       "      background-color: #E2EBFA;\n",
       "      box-shadow: 0px 1px 2px rgba(60, 64, 67, 0.3), 0px 1px 3px 1px rgba(60, 64, 67, 0.15);\n",
       "      fill: #174EA6;\n",
       "    }\n",
       "\n",
       "    .colab-df-buttons div {\n",
       "      margin-bottom: 4px;\n",
       "    }\n",
       "\n",
       "    [theme=dark] .colab-df-convert {\n",
       "      background-color: #3B4455;\n",
       "      fill: #D2E3FC;\n",
       "    }\n",
       "\n",
       "    [theme=dark] .colab-df-convert:hover {\n",
       "      background-color: #434B5C;\n",
       "      box-shadow: 0px 1px 3px 1px rgba(0, 0, 0, 0.15);\n",
       "      filter: drop-shadow(0px 1px 2px rgba(0, 0, 0, 0.3));\n",
       "      fill: #FFFFFF;\n",
       "    }\n",
       "  </style>\n",
       "\n",
       "    <script>\n",
       "      const buttonEl =\n",
       "        document.querySelector('#df-e9bd16cc-a099-4ad6-8767-620e04b04515 button.colab-df-convert');\n",
       "      buttonEl.style.display =\n",
       "        google.colab.kernel.accessAllowed ? 'block' : 'none';\n",
       "\n",
       "      async function convertToInteractive(key) {\n",
       "        const element = document.querySelector('#df-e9bd16cc-a099-4ad6-8767-620e04b04515');\n",
       "        const dataTable =\n",
       "          await google.colab.kernel.invokeFunction('convertToInteractive',\n",
       "                                                    [key], {});\n",
       "        if (!dataTable) return;\n",
       "\n",
       "        const docLinkHtml = 'Like what you see? Visit the ' +\n",
       "          '<a target=\"_blank\" href=https://colab.research.google.com/notebooks/data_table.ipynb>data table notebook</a>'\n",
       "          + ' to learn more about interactive tables.';\n",
       "        element.innerHTML = '';\n",
       "        dataTable['output_type'] = 'display_data';\n",
       "        await google.colab.output.renderOutput(dataTable, element);\n",
       "        const docLink = document.createElement('div');\n",
       "        docLink.innerHTML = docLinkHtml;\n",
       "        element.appendChild(docLink);\n",
       "      }\n",
       "    </script>\n",
       "  </div>\n",
       "\n",
       "\n",
       "<div id=\"df-fe39ae62-88d7-4101-82e1-f515c2b084e2\">\n",
       "  <button class=\"colab-df-quickchart\" onclick=\"quickchart('df-fe39ae62-88d7-4101-82e1-f515c2b084e2')\"\n",
       "            title=\"Suggest charts.\"\n",
       "            style=\"display:none;\">\n",
       "\n",
       "<svg xmlns=\"http://www.w3.org/2000/svg\" height=\"24px\"viewBox=\"0 0 24 24\"\n",
       "     width=\"24px\">\n",
       "    <g>\n",
       "        <path d=\"M19 3H5c-1.1 0-2 .9-2 2v14c0 1.1.9 2 2 2h14c1.1 0 2-.9 2-2V5c0-1.1-.9-2-2-2zM9 17H7v-7h2v7zm4 0h-2V7h2v10zm4 0h-2v-4h2v4z\"/>\n",
       "    </g>\n",
       "</svg>\n",
       "  </button>\n",
       "\n",
       "<style>\n",
       "  .colab-df-quickchart {\n",
       "    background-color: #E8F0FE;\n",
       "    border: none;\n",
       "    border-radius: 50%;\n",
       "    cursor: pointer;\n",
       "    display: none;\n",
       "    fill: #1967D2;\n",
       "    height: 32px;\n",
       "    padding: 0 0 0 0;\n",
       "    width: 32px;\n",
       "  }\n",
       "\n",
       "  .colab-df-quickchart:hover {\n",
       "    background-color: #E2EBFA;\n",
       "    box-shadow: 0px 1px 2px rgba(60, 64, 67, 0.3), 0px 1px 3px 1px rgba(60, 64, 67, 0.15);\n",
       "    fill: #174EA6;\n",
       "  }\n",
       "\n",
       "  [theme=dark] .colab-df-quickchart {\n",
       "    background-color: #3B4455;\n",
       "    fill: #D2E3FC;\n",
       "  }\n",
       "\n",
       "  [theme=dark] .colab-df-quickchart:hover {\n",
       "    background-color: #434B5C;\n",
       "    box-shadow: 0px 1px 3px 1px rgba(0, 0, 0, 0.15);\n",
       "    filter: drop-shadow(0px 1px 2px rgba(0, 0, 0, 0.3));\n",
       "    fill: #FFFFFF;\n",
       "  }\n",
       "</style>\n",
       "\n",
       "  <script>\n",
       "    async function quickchart(key) {\n",
       "      const charts = await google.colab.kernel.invokeFunction(\n",
       "          'suggestCharts', [key], {});\n",
       "    }\n",
       "    (() => {\n",
       "      let quickchartButtonEl =\n",
       "        document.querySelector('#df-fe39ae62-88d7-4101-82e1-f515c2b084e2 button');\n",
       "      quickchartButtonEl.style.display =\n",
       "        google.colab.kernel.accessAllowed ? 'block' : 'none';\n",
       "    })();\n",
       "  </script>\n",
       "</div>\n",
       "    </div>\n",
       "  </div>\n"
      ],
      "text/plain": [
       "                 Job Title Experience Level Expertise Level Company Location  \\\n",
       "0                    Other           Senior          Expert          Germany   \n",
       "1            Data Engineer              Mid    Intermediate    United States   \n",
       "2            Data Engineer              Mid    Intermediate    United States   \n",
       "3            Data Engineer              Mid    Intermediate    United States   \n",
       "4            Data Engineer              Mid    Intermediate    United States   \n",
       "...                    ...              ...             ...              ...   \n",
       "3677                 Other           Senior          Expert    United States   \n",
       "3678        Data Scientist           Senior          Expert    United States   \n",
       "3679                 Other              Mid    Intermediate    United States   \n",
       "3680        Data Scientist            Entry          Junior    United States   \n",
       "3682  Data Science Manager           Senior          Expert            Other   \n",
       "\n",
       "     Employee Residence Company Size  Year is_expatriate  \n",
       "0               Germany        Large  2023            No  \n",
       "1         United States       Medium  2023            No  \n",
       "2         United States       Medium  2023            No  \n",
       "3         United States        Large  2023            No  \n",
       "4         United States        Large  2023            No  \n",
       "...                 ...          ...   ...           ...  \n",
       "3677      United States        Large  2021            No  \n",
       "3678      United States        Large  2020            No  \n",
       "3679      United States        Large  2021            No  \n",
       "3680      United States        Small  2020            No  \n",
       "3682              India        Large  2021            No  \n",
       "\n",
       "[3641 rows x 8 columns]"
      ]
     },
     "execution_count": 182,
     "metadata": {},
     "output_type": "execute_result"
    }
   ],
   "source": [
    "X"
   ]
  },
  {
   "cell_type": "code",
   "execution_count": null,
   "metadata": {
    "colab": {
     "base_uri": "https://localhost:8080/"
    },
    "id": "4B5ChBXTl269",
    "outputId": "72ed2633-50e0-498c-d6fe-296d04dad87a"
   },
   "outputs": [
    {
     "data": {
      "text/plain": [
       "0        64781\n",
       "1       160000\n",
       "2       140000\n",
       "3       139152\n",
       "4        82452\n",
       "         ...  \n",
       "3677    165000\n",
       "3678    412000\n",
       "3679    151000\n",
       "3680    105000\n",
       "3682     94665\n",
       "Name: Salary in USD, Length: 3641, dtype: int64"
      ]
     },
     "execution_count": 81,
     "metadata": {},
     "output_type": "execute_result"
    }
   ],
   "source": [
    "y"
   ]
  },
  {
   "cell_type": "code",
   "execution_count": null,
   "metadata": {
    "colab": {
     "base_uri": "https://localhost:8080/"
    },
    "id": "rPWrBtZHTlxY",
    "outputId": "4e9f4c05-f210-4e18-f4b4-167763afd986"
   },
   "outputs": [
    {
     "data": {
      "text/plain": [
       "2023    2363\n",
       "2022    1005\n",
       "2021     205\n",
       "2020      68\n",
       "Name: Year, dtype: int64"
      ]
     },
     "execution_count": 29,
     "metadata": {},
     "output_type": "execute_result"
    }
   ],
   "source": [
    "X['Year'].value_counts()"
   ]
  },
  {
   "cell_type": "code",
   "execution_count": null,
   "metadata": {
    "id": "ProxszfXTmQL"
   },
   "outputs": [],
   "source": [
    "expertise_cat = ['Junior', 'Intermediate', 'Expert', 'Director']\n",
    "X['Expertise Level'] = pd.Categorical(X['Expertise Level'], categories=expertise_cat, ordered=True)"
   ]
  },
  {
   "cell_type": "code",
   "execution_count": null,
   "metadata": {
    "id": "Vaex7T2wTmSh"
   },
   "outputs": [],
   "source": [
    "experience_cat = ['Entry', 'Executive', 'Mid', 'Senior']\n",
    "X['Experience Level'] = pd.Categorical(X['Experience Level'], categories=experience_cat, ordered=True)"
   ]
  },
  {
   "cell_type": "code",
   "execution_count": null,
   "metadata": {
    "id": "bgEHp69AYblg"
   },
   "outputs": [],
   "source": [
    "company_cat = ['Small', 'Medium', 'Large']\n",
    "X['Company Size'] = pd.Categorical(X['Company Size'], categories=company_cat, ordered=True)"
   ]
  },
  {
   "cell_type": "code",
   "execution_count": null,
   "metadata": {
    "id": "ZWOesbdCbjLi"
   },
   "outputs": [],
   "source": [
    "year_cat = [2020, 2021, 2022, 2023]\n",
    "X['Year'] = pd.Categorical(X['Year'], categories=year_cat, ordered=True)"
   ]
  },
  {
   "cell_type": "code",
   "execution_count": null,
   "metadata": {
    "colab": {
     "base_uri": "https://localhost:8080/"
    },
    "id": "FftwHRV_l24R",
    "outputId": "73d89de1-5dfe-4ce1-c6dd-8b458bf3bbb6"
   },
   "outputs": [
    {
     "name": "stdout",
     "output_type": "stream",
     "text": [
      "<class 'pandas.core.frame.DataFrame'>\n",
      "Int64Index: 3641 entries, 0 to 3682\n",
      "Data columns (total 8 columns):\n",
      " #   Column              Non-Null Count  Dtype   \n",
      "---  ------              --------------  -----   \n",
      " 0   Job Title           3641 non-null   object  \n",
      " 1   Experience Level    3641 non-null   category\n",
      " 2   Expertise Level     3641 non-null   category\n",
      " 3   Company Location    3641 non-null   object  \n",
      " 4   Employee Residence  3641 non-null   object  \n",
      " 5   Company Size        3641 non-null   category\n",
      " 6   Year                3641 non-null   category\n",
      " 7   is_expatriate       3641 non-null   object  \n",
      "dtypes: category(4), object(4)\n",
      "memory usage: 157.2+ KB\n"
     ]
    }
   ],
   "source": [
    "X.info()"
   ]
  },
  {
   "cell_type": "code",
   "execution_count": null,
   "metadata": {
    "colab": {
     "base_uri": "https://localhost:8080/"
    },
    "id": "h6M2MnnGZK2Q",
    "outputId": "c009dc87-fa3a-4fc6-a325-843d57e531b6"
   },
   "outputs": [
    {
     "data": {
      "text/plain": [
       "Expert          2310\n",
       "Intermediate     869\n",
       "Junior           301\n",
       "Director         161\n",
       "Name: Expertise Level, dtype: int64"
      ]
     },
     "execution_count": 35,
     "metadata": {},
     "output_type": "execute_result"
    }
   ],
   "source": [
    "X['Expertise Level'].value_counts()"
   ]
  },
  {
   "cell_type": "code",
   "execution_count": null,
   "metadata": {
    "colab": {
     "base_uri": "https://localhost:8080/",
     "height": 423
    },
    "id": "g42F2rfEZK7I",
    "outputId": "7c3b906a-e982-4347-90ad-a065b6c18871"
   },
   "outputs": [
    {
     "data": {
      "text/html": [
       "\n",
       "  <div id=\"df-fcf04e1a-aee8-4c1e-b694-e004245899ef\" class=\"colab-df-container\">\n",
       "    <div>\n",
       "<style scoped>\n",
       "    .dataframe tbody tr th:only-of-type {\n",
       "        vertical-align: middle;\n",
       "    }\n",
       "\n",
       "    .dataframe tbody tr th {\n",
       "        vertical-align: top;\n",
       "    }\n",
       "\n",
       "    .dataframe thead th {\n",
       "        text-align: right;\n",
       "    }\n",
       "</style>\n",
       "<table border=\"1\" class=\"dataframe\">\n",
       "  <thead>\n",
       "    <tr style=\"text-align: right;\">\n",
       "      <th></th>\n",
       "      <th>Job Title</th>\n",
       "      <th>Experience Level</th>\n",
       "      <th>Expertise Level</th>\n",
       "      <th>Company Location</th>\n",
       "      <th>Employee Residence</th>\n",
       "      <th>Company Size</th>\n",
       "      <th>Year</th>\n",
       "      <th>is_expatriate</th>\n",
       "    </tr>\n",
       "  </thead>\n",
       "  <tbody>\n",
       "    <tr>\n",
       "      <th>0</th>\n",
       "      <td>Other</td>\n",
       "      <td>Senior</td>\n",
       "      <td>Expert</td>\n",
       "      <td>Germany</td>\n",
       "      <td>Germany</td>\n",
       "      <td>Large</td>\n",
       "      <td>2023</td>\n",
       "      <td>No</td>\n",
       "    </tr>\n",
       "    <tr>\n",
       "      <th>1</th>\n",
       "      <td>Data Engineer</td>\n",
       "      <td>Mid</td>\n",
       "      <td>Intermediate</td>\n",
       "      <td>United States</td>\n",
       "      <td>United States</td>\n",
       "      <td>Medium</td>\n",
       "      <td>2023</td>\n",
       "      <td>No</td>\n",
       "    </tr>\n",
       "    <tr>\n",
       "      <th>2</th>\n",
       "      <td>Data Engineer</td>\n",
       "      <td>Mid</td>\n",
       "      <td>Intermediate</td>\n",
       "      <td>United States</td>\n",
       "      <td>United States</td>\n",
       "      <td>Medium</td>\n",
       "      <td>2023</td>\n",
       "      <td>No</td>\n",
       "    </tr>\n",
       "    <tr>\n",
       "      <th>3</th>\n",
       "      <td>Data Engineer</td>\n",
       "      <td>Mid</td>\n",
       "      <td>Intermediate</td>\n",
       "      <td>United States</td>\n",
       "      <td>United States</td>\n",
       "      <td>Large</td>\n",
       "      <td>2023</td>\n",
       "      <td>No</td>\n",
       "    </tr>\n",
       "    <tr>\n",
       "      <th>4</th>\n",
       "      <td>Data Engineer</td>\n",
       "      <td>Mid</td>\n",
       "      <td>Intermediate</td>\n",
       "      <td>United States</td>\n",
       "      <td>United States</td>\n",
       "      <td>Large</td>\n",
       "      <td>2023</td>\n",
       "      <td>No</td>\n",
       "    </tr>\n",
       "    <tr>\n",
       "      <th>...</th>\n",
       "      <td>...</td>\n",
       "      <td>...</td>\n",
       "      <td>...</td>\n",
       "      <td>...</td>\n",
       "      <td>...</td>\n",
       "      <td>...</td>\n",
       "      <td>...</td>\n",
       "      <td>...</td>\n",
       "    </tr>\n",
       "    <tr>\n",
       "      <th>3677</th>\n",
       "      <td>Other</td>\n",
       "      <td>Senior</td>\n",
       "      <td>Expert</td>\n",
       "      <td>United States</td>\n",
       "      <td>United States</td>\n",
       "      <td>Large</td>\n",
       "      <td>2021</td>\n",
       "      <td>No</td>\n",
       "    </tr>\n",
       "    <tr>\n",
       "      <th>3678</th>\n",
       "      <td>Data Scientist</td>\n",
       "      <td>Senior</td>\n",
       "      <td>Expert</td>\n",
       "      <td>United States</td>\n",
       "      <td>United States</td>\n",
       "      <td>Large</td>\n",
       "      <td>2020</td>\n",
       "      <td>No</td>\n",
       "    </tr>\n",
       "    <tr>\n",
       "      <th>3679</th>\n",
       "      <td>Other</td>\n",
       "      <td>Mid</td>\n",
       "      <td>Intermediate</td>\n",
       "      <td>United States</td>\n",
       "      <td>United States</td>\n",
       "      <td>Large</td>\n",
       "      <td>2021</td>\n",
       "      <td>No</td>\n",
       "    </tr>\n",
       "    <tr>\n",
       "      <th>3680</th>\n",
       "      <td>Data Scientist</td>\n",
       "      <td>Entry</td>\n",
       "      <td>Junior</td>\n",
       "      <td>United States</td>\n",
       "      <td>United States</td>\n",
       "      <td>Small</td>\n",
       "      <td>2020</td>\n",
       "      <td>No</td>\n",
       "    </tr>\n",
       "    <tr>\n",
       "      <th>3682</th>\n",
       "      <td>Data Science Manager</td>\n",
       "      <td>Senior</td>\n",
       "      <td>Expert</td>\n",
       "      <td>Other</td>\n",
       "      <td>India</td>\n",
       "      <td>Large</td>\n",
       "      <td>2021</td>\n",
       "      <td>No</td>\n",
       "    </tr>\n",
       "  </tbody>\n",
       "</table>\n",
       "<p>3641 rows × 8 columns</p>\n",
       "</div>\n",
       "    <div class=\"colab-df-buttons\">\n",
       "\n",
       "  <div class=\"colab-df-container\">\n",
       "    <button class=\"colab-df-convert\" onclick=\"convertToInteractive('df-fcf04e1a-aee8-4c1e-b694-e004245899ef')\"\n",
       "            title=\"Convert this dataframe to an interactive table.\"\n",
       "            style=\"display:none;\">\n",
       "\n",
       "  <svg xmlns=\"http://www.w3.org/2000/svg\" height=\"24px\" viewBox=\"0 -960 960 960\">\n",
       "    <path d=\"M120-120v-720h720v720H120Zm60-500h600v-160H180v160Zm220 220h160v-160H400v160Zm0 220h160v-160H400v160ZM180-400h160v-160H180v160Zm440 0h160v-160H620v160ZM180-180h160v-160H180v160Zm440 0h160v-160H620v160Z\"/>\n",
       "  </svg>\n",
       "    </button>\n",
       "\n",
       "  <style>\n",
       "    .colab-df-container {\n",
       "      display:flex;\n",
       "      gap: 12px;\n",
       "    }\n",
       "\n",
       "    .colab-df-convert {\n",
       "      background-color: #E8F0FE;\n",
       "      border: none;\n",
       "      border-radius: 50%;\n",
       "      cursor: pointer;\n",
       "      display: none;\n",
       "      fill: #1967D2;\n",
       "      height: 32px;\n",
       "      padding: 0 0 0 0;\n",
       "      width: 32px;\n",
       "    }\n",
       "\n",
       "    .colab-df-convert:hover {\n",
       "      background-color: #E2EBFA;\n",
       "      box-shadow: 0px 1px 2px rgba(60, 64, 67, 0.3), 0px 1px 3px 1px rgba(60, 64, 67, 0.15);\n",
       "      fill: #174EA6;\n",
       "    }\n",
       "\n",
       "    .colab-df-buttons div {\n",
       "      margin-bottom: 4px;\n",
       "    }\n",
       "\n",
       "    [theme=dark] .colab-df-convert {\n",
       "      background-color: #3B4455;\n",
       "      fill: #D2E3FC;\n",
       "    }\n",
       "\n",
       "    [theme=dark] .colab-df-convert:hover {\n",
       "      background-color: #434B5C;\n",
       "      box-shadow: 0px 1px 3px 1px rgba(0, 0, 0, 0.15);\n",
       "      filter: drop-shadow(0px 1px 2px rgba(0, 0, 0, 0.3));\n",
       "      fill: #FFFFFF;\n",
       "    }\n",
       "  </style>\n",
       "\n",
       "    <script>\n",
       "      const buttonEl =\n",
       "        document.querySelector('#df-fcf04e1a-aee8-4c1e-b694-e004245899ef button.colab-df-convert');\n",
       "      buttonEl.style.display =\n",
       "        google.colab.kernel.accessAllowed ? 'block' : 'none';\n",
       "\n",
       "      async function convertToInteractive(key) {\n",
       "        const element = document.querySelector('#df-fcf04e1a-aee8-4c1e-b694-e004245899ef');\n",
       "        const dataTable =\n",
       "          await google.colab.kernel.invokeFunction('convertToInteractive',\n",
       "                                                    [key], {});\n",
       "        if (!dataTable) return;\n",
       "\n",
       "        const docLinkHtml = 'Like what you see? Visit the ' +\n",
       "          '<a target=\"_blank\" href=https://colab.research.google.com/notebooks/data_table.ipynb>data table notebook</a>'\n",
       "          + ' to learn more about interactive tables.';\n",
       "        element.innerHTML = '';\n",
       "        dataTable['output_type'] = 'display_data';\n",
       "        await google.colab.output.renderOutput(dataTable, element);\n",
       "        const docLink = document.createElement('div');\n",
       "        docLink.innerHTML = docLinkHtml;\n",
       "        element.appendChild(docLink);\n",
       "      }\n",
       "    </script>\n",
       "  </div>\n",
       "\n",
       "\n",
       "<div id=\"df-85d81399-eee5-467d-b026-992a1846da1f\">\n",
       "  <button class=\"colab-df-quickchart\" onclick=\"quickchart('df-85d81399-eee5-467d-b026-992a1846da1f')\"\n",
       "            title=\"Suggest charts.\"\n",
       "            style=\"display:none;\">\n",
       "\n",
       "<svg xmlns=\"http://www.w3.org/2000/svg\" height=\"24px\"viewBox=\"0 0 24 24\"\n",
       "     width=\"24px\">\n",
       "    <g>\n",
       "        <path d=\"M19 3H5c-1.1 0-2 .9-2 2v14c0 1.1.9 2 2 2h14c1.1 0 2-.9 2-2V5c0-1.1-.9-2-2-2zM9 17H7v-7h2v7zm4 0h-2V7h2v10zm4 0h-2v-4h2v4z\"/>\n",
       "    </g>\n",
       "</svg>\n",
       "  </button>\n",
       "\n",
       "<style>\n",
       "  .colab-df-quickchart {\n",
       "    background-color: #E8F0FE;\n",
       "    border: none;\n",
       "    border-radius: 50%;\n",
       "    cursor: pointer;\n",
       "    display: none;\n",
       "    fill: #1967D2;\n",
       "    height: 32px;\n",
       "    padding: 0 0 0 0;\n",
       "    width: 32px;\n",
       "  }\n",
       "\n",
       "  .colab-df-quickchart:hover {\n",
       "    background-color: #E2EBFA;\n",
       "    box-shadow: 0px 1px 2px rgba(60, 64, 67, 0.3), 0px 1px 3px 1px rgba(60, 64, 67, 0.15);\n",
       "    fill: #174EA6;\n",
       "  }\n",
       "\n",
       "  [theme=dark] .colab-df-quickchart {\n",
       "    background-color: #3B4455;\n",
       "    fill: #D2E3FC;\n",
       "  }\n",
       "\n",
       "  [theme=dark] .colab-df-quickchart:hover {\n",
       "    background-color: #434B5C;\n",
       "    box-shadow: 0px 1px 3px 1px rgba(0, 0, 0, 0.15);\n",
       "    filter: drop-shadow(0px 1px 2px rgba(0, 0, 0, 0.3));\n",
       "    fill: #FFFFFF;\n",
       "  }\n",
       "</style>\n",
       "\n",
       "  <script>\n",
       "    async function quickchart(key) {\n",
       "      const charts = await google.colab.kernel.invokeFunction(\n",
       "          'suggestCharts', [key], {});\n",
       "    }\n",
       "    (() => {\n",
       "      let quickchartButtonEl =\n",
       "        document.querySelector('#df-85d81399-eee5-467d-b026-992a1846da1f button');\n",
       "      quickchartButtonEl.style.display =\n",
       "        google.colab.kernel.accessAllowed ? 'block' : 'none';\n",
       "    })();\n",
       "  </script>\n",
       "</div>\n",
       "    </div>\n",
       "  </div>\n"
      ],
      "text/plain": [
       "                 Job Title Experience Level Expertise Level Company Location  \\\n",
       "0                    Other           Senior          Expert          Germany   \n",
       "1            Data Engineer              Mid    Intermediate    United States   \n",
       "2            Data Engineer              Mid    Intermediate    United States   \n",
       "3            Data Engineer              Mid    Intermediate    United States   \n",
       "4            Data Engineer              Mid    Intermediate    United States   \n",
       "...                    ...              ...             ...              ...   \n",
       "3677                 Other           Senior          Expert    United States   \n",
       "3678        Data Scientist           Senior          Expert    United States   \n",
       "3679                 Other              Mid    Intermediate    United States   \n",
       "3680        Data Scientist            Entry          Junior    United States   \n",
       "3682  Data Science Manager           Senior          Expert            Other   \n",
       "\n",
       "     Employee Residence Company Size  Year is_expatriate  \n",
       "0               Germany        Large  2023            No  \n",
       "1         United States       Medium  2023            No  \n",
       "2         United States       Medium  2023            No  \n",
       "3         United States        Large  2023            No  \n",
       "4         United States        Large  2023            No  \n",
       "...                 ...          ...   ...           ...  \n",
       "3677      United States        Large  2021            No  \n",
       "3678      United States        Large  2020            No  \n",
       "3679      United States        Large  2021            No  \n",
       "3680      United States        Small  2020            No  \n",
       "3682              India        Large  2021            No  \n",
       "\n",
       "[3641 rows x 8 columns]"
      ]
     },
     "execution_count": 136,
     "metadata": {},
     "output_type": "execute_result"
    }
   ],
   "source": [
    "X"
   ]
  },
  {
   "cell_type": "code",
   "execution_count": null,
   "metadata": {
    "id": "nknU_IDXbMKj"
   },
   "outputs": [],
   "source": []
  },
  {
   "cell_type": "code",
   "execution_count": null,
   "metadata": {
    "id": "s6Gb3ycubMSI"
   },
   "outputs": [],
   "source": [
    "X['Job Title'] = X['Job Title'].astype('object')"
   ]
  },
  {
   "cell_type": "code",
   "execution_count": null,
   "metadata": {
    "id": "SexsScaubMVH"
   },
   "outputs": [],
   "source": [
    "X['Company Location'] = X['Company Location'].astype('object')"
   ]
  },
  {
   "cell_type": "code",
   "execution_count": null,
   "metadata": {
    "colab": {
     "base_uri": "https://localhost:8080/"
    },
    "id": "7EE8mVQabMXR",
    "outputId": "8b4a0595-092f-4226-8409-f55e3678a371"
   },
   "outputs": [
    {
     "name": "stdout",
     "output_type": "stream",
     "text": [
      "<class 'pandas.core.frame.DataFrame'>\n",
      "Int64Index: 3641 entries, 0 to 3682\n",
      "Data columns (total 8 columns):\n",
      " #   Column              Non-Null Count  Dtype   \n",
      "---  ------              --------------  -----   \n",
      " 0   Job Title           3641 non-null   object  \n",
      " 1   Experience Level    3641 non-null   category\n",
      " 2   Expertise Level     3641 non-null   category\n",
      " 3   Company Location    3641 non-null   object  \n",
      " 4   Employee Residence  3641 non-null   object  \n",
      " 5   Company Size        3641 non-null   category\n",
      " 6   Year                3641 non-null   category\n",
      " 7   is_expatriate       3641 non-null   object  \n",
      "dtypes: category(4), object(4)\n",
      "memory usage: 157.2+ KB\n"
     ]
    }
   ],
   "source": [
    "X.info()"
   ]
  },
  {
   "cell_type": "code",
   "execution_count": null,
   "metadata": {
    "colab": {
     "base_uri": "https://localhost:8080/",
     "height": 423
    },
    "id": "MaY4Ht7_nGJH",
    "outputId": "bf88e474-0697-4785-a336-a94eabac8278"
   },
   "outputs": [
    {
     "data": {
      "text/html": [
       "\n",
       "  <div id=\"df-4d57b511-f4af-4104-9087-90128337d2e8\" class=\"colab-df-container\">\n",
       "    <div>\n",
       "<style scoped>\n",
       "    .dataframe tbody tr th:only-of-type {\n",
       "        vertical-align: middle;\n",
       "    }\n",
       "\n",
       "    .dataframe tbody tr th {\n",
       "        vertical-align: top;\n",
       "    }\n",
       "\n",
       "    .dataframe thead th {\n",
       "        text-align: right;\n",
       "    }\n",
       "</style>\n",
       "<table border=\"1\" class=\"dataframe\">\n",
       "  <thead>\n",
       "    <tr style=\"text-align: right;\">\n",
       "      <th></th>\n",
       "      <th>Job Title</th>\n",
       "      <th>Experience Level</th>\n",
       "      <th>Expertise Level</th>\n",
       "      <th>Company Location</th>\n",
       "      <th>Employee Residence</th>\n",
       "      <th>Company Size</th>\n",
       "      <th>Year</th>\n",
       "      <th>is_expatriate</th>\n",
       "    </tr>\n",
       "  </thead>\n",
       "  <tbody>\n",
       "    <tr>\n",
       "      <th>0</th>\n",
       "      <td>Other</td>\n",
       "      <td>Senior</td>\n",
       "      <td>Expert</td>\n",
       "      <td>Germany</td>\n",
       "      <td>Germany</td>\n",
       "      <td>Large</td>\n",
       "      <td>2023</td>\n",
       "      <td>No</td>\n",
       "    </tr>\n",
       "    <tr>\n",
       "      <th>1</th>\n",
       "      <td>Data Engineer</td>\n",
       "      <td>Mid</td>\n",
       "      <td>Intermediate</td>\n",
       "      <td>United States</td>\n",
       "      <td>United States</td>\n",
       "      <td>Medium</td>\n",
       "      <td>2023</td>\n",
       "      <td>No</td>\n",
       "    </tr>\n",
       "    <tr>\n",
       "      <th>2</th>\n",
       "      <td>Data Engineer</td>\n",
       "      <td>Mid</td>\n",
       "      <td>Intermediate</td>\n",
       "      <td>United States</td>\n",
       "      <td>United States</td>\n",
       "      <td>Medium</td>\n",
       "      <td>2023</td>\n",
       "      <td>No</td>\n",
       "    </tr>\n",
       "    <tr>\n",
       "      <th>3</th>\n",
       "      <td>Data Engineer</td>\n",
       "      <td>Mid</td>\n",
       "      <td>Intermediate</td>\n",
       "      <td>United States</td>\n",
       "      <td>United States</td>\n",
       "      <td>Large</td>\n",
       "      <td>2023</td>\n",
       "      <td>No</td>\n",
       "    </tr>\n",
       "    <tr>\n",
       "      <th>4</th>\n",
       "      <td>Data Engineer</td>\n",
       "      <td>Mid</td>\n",
       "      <td>Intermediate</td>\n",
       "      <td>United States</td>\n",
       "      <td>United States</td>\n",
       "      <td>Large</td>\n",
       "      <td>2023</td>\n",
       "      <td>No</td>\n",
       "    </tr>\n",
       "    <tr>\n",
       "      <th>...</th>\n",
       "      <td>...</td>\n",
       "      <td>...</td>\n",
       "      <td>...</td>\n",
       "      <td>...</td>\n",
       "      <td>...</td>\n",
       "      <td>...</td>\n",
       "      <td>...</td>\n",
       "      <td>...</td>\n",
       "    </tr>\n",
       "    <tr>\n",
       "      <th>3677</th>\n",
       "      <td>Other</td>\n",
       "      <td>Senior</td>\n",
       "      <td>Expert</td>\n",
       "      <td>United States</td>\n",
       "      <td>United States</td>\n",
       "      <td>Large</td>\n",
       "      <td>2021</td>\n",
       "      <td>No</td>\n",
       "    </tr>\n",
       "    <tr>\n",
       "      <th>3678</th>\n",
       "      <td>Data Scientist</td>\n",
       "      <td>Senior</td>\n",
       "      <td>Expert</td>\n",
       "      <td>United States</td>\n",
       "      <td>United States</td>\n",
       "      <td>Large</td>\n",
       "      <td>2020</td>\n",
       "      <td>No</td>\n",
       "    </tr>\n",
       "    <tr>\n",
       "      <th>3679</th>\n",
       "      <td>Other</td>\n",
       "      <td>Mid</td>\n",
       "      <td>Intermediate</td>\n",
       "      <td>United States</td>\n",
       "      <td>United States</td>\n",
       "      <td>Large</td>\n",
       "      <td>2021</td>\n",
       "      <td>No</td>\n",
       "    </tr>\n",
       "    <tr>\n",
       "      <th>3680</th>\n",
       "      <td>Data Scientist</td>\n",
       "      <td>Entry</td>\n",
       "      <td>Junior</td>\n",
       "      <td>United States</td>\n",
       "      <td>United States</td>\n",
       "      <td>Small</td>\n",
       "      <td>2020</td>\n",
       "      <td>No</td>\n",
       "    </tr>\n",
       "    <tr>\n",
       "      <th>3682</th>\n",
       "      <td>Data Science Manager</td>\n",
       "      <td>Senior</td>\n",
       "      <td>Expert</td>\n",
       "      <td>Other</td>\n",
       "      <td>India</td>\n",
       "      <td>Large</td>\n",
       "      <td>2021</td>\n",
       "      <td>No</td>\n",
       "    </tr>\n",
       "  </tbody>\n",
       "</table>\n",
       "<p>3641 rows × 8 columns</p>\n",
       "</div>\n",
       "    <div class=\"colab-df-buttons\">\n",
       "\n",
       "  <div class=\"colab-df-container\">\n",
       "    <button class=\"colab-df-convert\" onclick=\"convertToInteractive('df-4d57b511-f4af-4104-9087-90128337d2e8')\"\n",
       "            title=\"Convert this dataframe to an interactive table.\"\n",
       "            style=\"display:none;\">\n",
       "\n",
       "  <svg xmlns=\"http://www.w3.org/2000/svg\" height=\"24px\" viewBox=\"0 -960 960 960\">\n",
       "    <path d=\"M120-120v-720h720v720H120Zm60-500h600v-160H180v160Zm220 220h160v-160H400v160Zm0 220h160v-160H400v160ZM180-400h160v-160H180v160Zm440 0h160v-160H620v160ZM180-180h160v-160H180v160Zm440 0h160v-160H620v160Z\"/>\n",
       "  </svg>\n",
       "    </button>\n",
       "\n",
       "  <style>\n",
       "    .colab-df-container {\n",
       "      display:flex;\n",
       "      gap: 12px;\n",
       "    }\n",
       "\n",
       "    .colab-df-convert {\n",
       "      background-color: #E8F0FE;\n",
       "      border: none;\n",
       "      border-radius: 50%;\n",
       "      cursor: pointer;\n",
       "      display: none;\n",
       "      fill: #1967D2;\n",
       "      height: 32px;\n",
       "      padding: 0 0 0 0;\n",
       "      width: 32px;\n",
       "    }\n",
       "\n",
       "    .colab-df-convert:hover {\n",
       "      background-color: #E2EBFA;\n",
       "      box-shadow: 0px 1px 2px rgba(60, 64, 67, 0.3), 0px 1px 3px 1px rgba(60, 64, 67, 0.15);\n",
       "      fill: #174EA6;\n",
       "    }\n",
       "\n",
       "    .colab-df-buttons div {\n",
       "      margin-bottom: 4px;\n",
       "    }\n",
       "\n",
       "    [theme=dark] .colab-df-convert {\n",
       "      background-color: #3B4455;\n",
       "      fill: #D2E3FC;\n",
       "    }\n",
       "\n",
       "    [theme=dark] .colab-df-convert:hover {\n",
       "      background-color: #434B5C;\n",
       "      box-shadow: 0px 1px 3px 1px rgba(0, 0, 0, 0.15);\n",
       "      filter: drop-shadow(0px 1px 2px rgba(0, 0, 0, 0.3));\n",
       "      fill: #FFFFFF;\n",
       "    }\n",
       "  </style>\n",
       "\n",
       "    <script>\n",
       "      const buttonEl =\n",
       "        document.querySelector('#df-4d57b511-f4af-4104-9087-90128337d2e8 button.colab-df-convert');\n",
       "      buttonEl.style.display =\n",
       "        google.colab.kernel.accessAllowed ? 'block' : 'none';\n",
       "\n",
       "      async function convertToInteractive(key) {\n",
       "        const element = document.querySelector('#df-4d57b511-f4af-4104-9087-90128337d2e8');\n",
       "        const dataTable =\n",
       "          await google.colab.kernel.invokeFunction('convertToInteractive',\n",
       "                                                    [key], {});\n",
       "        if (!dataTable) return;\n",
       "\n",
       "        const docLinkHtml = 'Like what you see? Visit the ' +\n",
       "          '<a target=\"_blank\" href=https://colab.research.google.com/notebooks/data_table.ipynb>data table notebook</a>'\n",
       "          + ' to learn more about interactive tables.';\n",
       "        element.innerHTML = '';\n",
       "        dataTable['output_type'] = 'display_data';\n",
       "        await google.colab.output.renderOutput(dataTable, element);\n",
       "        const docLink = document.createElement('div');\n",
       "        docLink.innerHTML = docLinkHtml;\n",
       "        element.appendChild(docLink);\n",
       "      }\n",
       "    </script>\n",
       "  </div>\n",
       "\n",
       "\n",
       "<div id=\"df-9ad4e641-fea8-452c-a055-538f63d5ef4a\">\n",
       "  <button class=\"colab-df-quickchart\" onclick=\"quickchart('df-9ad4e641-fea8-452c-a055-538f63d5ef4a')\"\n",
       "            title=\"Suggest charts.\"\n",
       "            style=\"display:none;\">\n",
       "\n",
       "<svg xmlns=\"http://www.w3.org/2000/svg\" height=\"24px\"viewBox=\"0 0 24 24\"\n",
       "     width=\"24px\">\n",
       "    <g>\n",
       "        <path d=\"M19 3H5c-1.1 0-2 .9-2 2v14c0 1.1.9 2 2 2h14c1.1 0 2-.9 2-2V5c0-1.1-.9-2-2-2zM9 17H7v-7h2v7zm4 0h-2V7h2v10zm4 0h-2v-4h2v4z\"/>\n",
       "    </g>\n",
       "</svg>\n",
       "  </button>\n",
       "\n",
       "<style>\n",
       "  .colab-df-quickchart {\n",
       "    background-color: #E8F0FE;\n",
       "    border: none;\n",
       "    border-radius: 50%;\n",
       "    cursor: pointer;\n",
       "    display: none;\n",
       "    fill: #1967D2;\n",
       "    height: 32px;\n",
       "    padding: 0 0 0 0;\n",
       "    width: 32px;\n",
       "  }\n",
       "\n",
       "  .colab-df-quickchart:hover {\n",
       "    background-color: #E2EBFA;\n",
       "    box-shadow: 0px 1px 2px rgba(60, 64, 67, 0.3), 0px 1px 3px 1px rgba(60, 64, 67, 0.15);\n",
       "    fill: #174EA6;\n",
       "  }\n",
       "\n",
       "  [theme=dark] .colab-df-quickchart {\n",
       "    background-color: #3B4455;\n",
       "    fill: #D2E3FC;\n",
       "  }\n",
       "\n",
       "  [theme=dark] .colab-df-quickchart:hover {\n",
       "    background-color: #434B5C;\n",
       "    box-shadow: 0px 1px 3px 1px rgba(0, 0, 0, 0.15);\n",
       "    filter: drop-shadow(0px 1px 2px rgba(0, 0, 0, 0.3));\n",
       "    fill: #FFFFFF;\n",
       "  }\n",
       "</style>\n",
       "\n",
       "  <script>\n",
       "    async function quickchart(key) {\n",
       "      const charts = await google.colab.kernel.invokeFunction(\n",
       "          'suggestCharts', [key], {});\n",
       "    }\n",
       "    (() => {\n",
       "      let quickchartButtonEl =\n",
       "        document.querySelector('#df-9ad4e641-fea8-452c-a055-538f63d5ef4a button');\n",
       "      quickchartButtonEl.style.display =\n",
       "        google.colab.kernel.accessAllowed ? 'block' : 'none';\n",
       "    })();\n",
       "  </script>\n",
       "</div>\n",
       "    </div>\n",
       "  </div>\n"
      ],
      "text/plain": [
       "                 Job Title Experience Level Expertise Level Company Location  \\\n",
       "0                    Other           Senior          Expert          Germany   \n",
       "1            Data Engineer              Mid    Intermediate    United States   \n",
       "2            Data Engineer              Mid    Intermediate    United States   \n",
       "3            Data Engineer              Mid    Intermediate    United States   \n",
       "4            Data Engineer              Mid    Intermediate    United States   \n",
       "...                    ...              ...             ...              ...   \n",
       "3677                 Other           Senior          Expert    United States   \n",
       "3678        Data Scientist           Senior          Expert    United States   \n",
       "3679                 Other              Mid    Intermediate    United States   \n",
       "3680        Data Scientist            Entry          Junior    United States   \n",
       "3682  Data Science Manager           Senior          Expert            Other   \n",
       "\n",
       "     Employee Residence Company Size  Year is_expatriate  \n",
       "0               Germany        Large  2023            No  \n",
       "1         United States       Medium  2023            No  \n",
       "2         United States       Medium  2023            No  \n",
       "3         United States        Large  2023            No  \n",
       "4         United States        Large  2023            No  \n",
       "...                 ...          ...   ...           ...  \n",
       "3677      United States        Large  2021            No  \n",
       "3678      United States        Large  2020            No  \n",
       "3679      United States        Large  2021            No  \n",
       "3680      United States        Small  2020            No  \n",
       "3682              India        Large  2021            No  \n",
       "\n",
       "[3641 rows x 8 columns]"
      ]
     },
     "execution_count": 90,
     "metadata": {},
     "output_type": "execute_result"
    }
   ],
   "source": [
    "X"
   ]
  },
  {
   "cell_type": "code",
   "execution_count": null,
   "metadata": {
    "id": "ZLFeRGTso0bi"
   },
   "outputs": [],
   "source": []
  },
  {
   "cell_type": "code",
   "execution_count": null,
   "metadata": {
    "id": "zntUfqzlo0eI"
   },
   "outputs": [],
   "source": [
    "from sklearn.linear_model import LinearRegression, Ridge, Lasso\n",
    "from sklearn.metrics import mean_squared_error, r2_score\n",
    "from sklearn.model_selection import cross_val_score, train_test_split\n",
    "from sklearn.preprocessing import OneHotEncoder, OrdinalEncoder, StandardScaler\n",
    "from sklearn.compose import make_column_transformer\n",
    "from sklearn.pipeline import make_pipeline\n",
    "\n",
    "column_trans = make_column_transformer(\n",
    "    (OneHotEncoder(drop='first'), ['Job Title', 'Experience Level',\n",
    "       'Expertise Level', 'Company Location','Company Location', 'Year']),\n",
    "#     (OrdinalEncoder(categories=[exp_cat]), ['experience_level']),\n",
    "    remainder='drop')\n",
    "\n",
    "std_scale = StandardScaler(with_mean=False)\n",
    "\n",
    "preprocess_pipe = make_pipeline(column_trans, std_scale)\n",
    "\n",
    "X_train, X_test, y_train, y_test = train_test_split(X, y, test_size=0.2, random_state=42)\n",
    "\n",
    "X_lin = column_trans.fit_transform(X)\n",
    "X_train_lin = column_trans.fit_transform(X_train)\n",
    "X_test_lin = column_trans.transform(X_test)\n",
    "\n",
    "# models\n",
    "lin_reg = LinearRegression()\n",
    "ridge = Ridge(alpha=0.01, max_iter=10000)\n",
    "\n"
   ]
  },
  {
   "cell_type": "code",
   "execution_count": null,
   "metadata": {
    "id": "Kc0cMfPgo0hB"
   },
   "outputs": [],
   "source": [
    "# Value Scaling (Normalization)\n",
    "X_scale = preprocess_pipe.fit_transform(X)\n",
    "y_scale = std_scale.fit_transform(y.values.reshape(-1,1))\n",
    "\n",
    "# X_train data pipeline (OneHotEncode + StdScale)\n",
    "X_train_scale = preprocess_pipe.fit_transform(X_train)\n",
    "X_test_scale = preprocess_pipe.transform(X_test)\n",
    "\n",
    "# y_train data pipeline (OneHotEncode + StdScale)\n",
    "y_train_scale = std_scale.fit_transform(y_train.values.reshape(-1,1))\n",
    "y_test_scale = std_scale.transform(y_test.values.reshape(-1,1))"
   ]
  },
  {
   "cell_type": "code",
   "execution_count": null,
   "metadata": {
    "id": "pjkvPLmco0jo"
   },
   "outputs": [],
   "source": [
    "def evaluate(model, train_features, train_labels, test_features, test_labels, **kwargs):\n",
    "    train_pred = model.predict(train_features)\n",
    "    test_pred = model.predict(test_features)\n",
    "    r2_train = r2_score(train_labels, train_pred)\n",
    "    r2_test = r2_score(test_labels, test_pred)\n",
    "    print(f'{model} Model Performance')\n",
    "    print('R2 Score of Training = {:0.6f}.'.format(r2_train))\n",
    "    print('R2 Score of Validation = {:0.6f}.'.format(r2_test))\n",
    "    if kwargs.get('X') is not None:\n",
    "        r2_cv = cross_val_score(model, X=kwargs.get('X'), y=kwargs.get('y'), cv=5, scoring='r2').mean()\n",
    "        print('5-folds CV Score = {:0.6f}.'.format(r2_cv))\n",
    "    return r2_train, r2_test, r2_cv"
   ]
  },
  {
   "cell_type": "code",
   "execution_count": null,
   "metadata": {
    "colab": {
     "base_uri": "https://localhost:8080/"
    },
    "id": "Dz2Br-ufo0mM",
    "outputId": "809fd9fb-d90e-47fa-d5ed-d97a377a9c28"
   },
   "outputs": [
    {
     "name": "stdout",
     "output_type": "stream",
     "text": [
      "LinearRegression() Model Performance\n",
      "R2 Score of Training = 0.376354.\n",
      "R2 Score of Validation = 0.355072.\n",
      "5-folds CV Score = 0.325857.\n",
      "------------------------------------------------------\n",
      "Ridge(alpha=0.01, max_iter=10000) Model Performance\n",
      "R2 Score of Training = 0.376354.\n",
      "R2 Score of Validation = 0.355070.\n",
      "5-folds CV Score = 0.325862.\n",
      "\n"
     ]
    }
   ],
   "source": [
    "# To not sacrifice interpretability, we will use the unscaled y (target) variable here\n",
    "lin_reg.fit(X_train_lin, y_train)\n",
    "evaluate(lin_reg, X_train_lin, y_train, X_test_lin, y_test, X=X_lin, y=y)\n",
    "\n",
    "print('------------------------------------------------------')\n",
    "\n",
    "ridge.fit(X_train_scale, y_train)\n",
    "evaluate(ridge, X_train_scale, y_train, X_test_scale, y_test, X=X_scale, y=y)\n",
    "print('')"
   ]
  },
  {
   "cell_type": "code",
   "execution_count": null,
   "metadata": {
    "colab": {
     "base_uri": "https://localhost:8080/"
    },
    "id": "tB2WWm1Ko0oy",
    "outputId": "52d97dd6-c9e2-4c9e-ea9a-c17f298ab23c"
   },
   "outputs": [
    {
     "name": "stdout",
     "output_type": "stream",
     "text": [
      "Lasso(alpha=100, max_iter=10000) Model Performance\n",
      "R2 Score of Training = 0.376295.\n",
      "R2 Score of Validation = 0.355167.\n",
      "5-folds CV Score = 0.327187.\n"
     ]
    },
    {
     "data": {
      "text/plain": [
       "(0.3762947554187227, 0.3551671884870401, 0.3271872476775467)"
      ]
     },
     "execution_count": 203,
     "metadata": {},
     "output_type": "execute_result"
    }
   ],
   "source": [
    "lasso.fit(X_train_scale, y_train)\n",
    "evaluate(lasso, X_train_scale, y_train, X_test_scale, y_test, X=X_scale, y=y)"
   ]
  },
  {
   "cell_type": "code",
   "execution_count": null,
   "metadata": {
    "id": "kXn_ZYM3o0rb"
   },
   "outputs": [],
   "source": [
    "from sklearn.model_selection import GridSearchCV, RandomizedSearchCV\n",
    "from sklearn.ensemble import RandomForestRegressor, GradientBoostingRegressor\n",
    "\n",
    "# Create the random grid for RandomForest\n",
    "random_grid_rf = {'n_estimators': [int(x) for x in np.linspace(500, 1000, 50)],\n",
    "               'max_features': ['auto', 'sqrt', 'log2'],\n",
    "               'max_depth': [int(x) for x in np.linspace(1, 20, 20)],\n",
    "               'min_samples_split': [2, 3, 4, 5, 6],\n",
    "               'min_samples_leaf': [2, 4, 6, 8, 10]}\n",
    "\n",
    "\n",
    "# Create the random grid for GradientBoosting\n",
    "random_grid_gb = {'n_estimators': [int(x) for x in np.linspace(1, 100, 20)],\n",
    "               'max_features': ['auto', 'sqrt', 'log2'],\n",
    "               'max_depth': [int(x) for x in np.linspace(1, 10, 10)],\n",
    "               'min_samples_split': [int(x) for x in np.linspace(3, 300, 30)],\n",
    "               'min_samples_leaf': [int(x) for x in np.linspace(3, 30, 30)],\n",
    "               'learning_rate':[0.01, 0.1],\n",
    "               'alpha': [0.3, 0.6, 0.9]}\n",
    "\n",
    "# Construct base models\n",
    "rf_base = RandomForestRegressor(random_state = 42)\n",
    "gb_base = GradientBoostingRegressor(random_state = 42)\n",
    "\n",
    "rf_random = RandomizedSearchCV(estimator = rf_base, param_distributions = random_grid_rf, n_iter = 500, cv = 3, random_state=42, n_jobs = -1)\n",
    "gb_random = RandomizedSearchCV(estimator = gb_base, param_distributions = random_grid_gb, n_iter = 500, cv = 3, random_state=42, n_jobs = -1)\n",
    "\n",
    "# Models optimized using BestForest/BestGB method (empirical visualizations)\n",
    "rf = RandomForestRegressor(max_features='sqrt', min_samples_leaf=3, random_state = 42)\n",
    "gb = GradientBoostingRegressor(n_estimators=90, max_features='log2', max_depth=4, min_samples_leaf=10, min_samples_split=220, random_state = 42)\n"
   ]
  },
  {
   "cell_type": "code",
   "execution_count": null,
   "metadata": {
    "colab": {
     "base_uri": "https://localhost:8080/"
    },
    "id": "1Pz3HCsemHZ_",
    "outputId": "581c9a48-1c67-40c0-b187-4e6e2a1f036a"
   },
   "outputs": [
    {
     "name": "stdout",
     "output_type": "stream",
     "text": [
      "RandomForestRegressor(random_state=42) Model Performance\n",
      "R2 Score of Training = 0.445110.\n",
      "R2 Score of Validation = 0.334131.\n",
      "5-folds CV Score = 0.268193.\n",
      "GradientBoostingRegressor(random_state=42) Model Performance\n",
      "R2 Score of Training = 0.405109.\n",
      "R2 Score of Validation = 0.346506.\n",
      "5-folds CV Score = 0.319491.\n",
      "RandomForestRegressor(max_features='sqrt', min_samples_leaf=3, random_state=42) Model Performance\n",
      "R2 Score of Training = 0.409057.\n",
      "R2 Score of Validation = 0.348809.\n",
      "5-folds CV Score = 0.314649.\n",
      "GradientBoostingRegressor(max_depth=4, max_features='log2', min_samples_leaf=10,\n",
      "                          min_samples_split=220, n_estimators=90,\n",
      "                          random_state=42) Model Performance\n",
      "R2 Score of Training = 0.390687.\n",
      "R2 Score of Validation = 0.359009.\n",
      "5-folds CV Score = 0.333254.\n",
      "\n"
     ]
    }
   ],
   "source": [
    "rf_base.fit(X_train_scale, y_train_scale.ravel())\n",
    "RF_Base = evaluate(rf_base, X_train_scale, y_train_scale, X_test_scale, y_test_scale, X=X_scale, y=y)\n",
    "gb_base.fit(X_train_scale, y_train_scale.ravel())\n",
    "GB_Base = evaluate(gb_base, X_train_scale, y_train_scale, X_test_scale, y_test_scale, X=X_scale, y=y)\n",
    "\n",
    "\n",
    "rf.fit(X_train_scale, y_train_scale.ravel())\n",
    "RF_Tuned = evaluate(rf, X_train_scale, y_train_scale, X_test_scale, y_test_scale, X=X_scale, y=y)\n",
    "gb.fit(X_train_scale, y_train_scale.ravel())\n",
    "GB_Tuned = evaluate(gb, X_train_scale, y_train_scale, X_test_scale, y_test_scale, X=X_scale, y=y)\n",
    "print('')"
   ]
  },
  {
   "cell_type": "code",
   "execution_count": null,
   "metadata": {
    "colab": {
     "base_uri": "https://localhost:8080/"
    },
    "id": "_LPqx5MymHXU",
    "outputId": "9690d133-89ac-47c8-ea39-f74e22dd2888"
   },
   "outputs": [
    {
     "name": "stdout",
     "output_type": "stream",
     "text": [
      "\n"
     ]
    }
   ],
   "source": [
    "rf_random.fit(X_train_scale, y_train_scale.ravel())\n",
    "gb_random.fit(X_train_scale, y_train_scale.ravel())\n",
    "print('')"
   ]
  },
  {
   "cell_type": "code",
   "execution_count": null,
   "metadata": {
    "colab": {
     "base_uri": "https://localhost:8080/"
    },
    "id": "vJeCthHJJjTX",
    "outputId": "8b3d2383-0443-4497-acc4-8ea66bda31d0"
   },
   "outputs": [
    {
     "data": {
      "text/plain": [
       "{'n_estimators': 500,\n",
       " 'min_samples_split': 3,\n",
       " 'min_samples_leaf': 4,\n",
       " 'max_features': 'sqrt',\n",
       " 'max_depth': 14}"
      ]
     },
     "execution_count": 191,
     "metadata": {},
     "output_type": "execute_result"
    }
   ],
   "source": [
    "best_params = rf_random.best_params_\n",
    "best_params"
   ]
  },
  {
   "cell_type": "code",
   "execution_count": null,
   "metadata": {
    "colab": {
     "base_uri": "https://localhost:8080/"
    },
    "id": "bBEyuNzjJpsc",
    "outputId": "fd9bbb99-3255-467c-8248-95cbbdd38594"
   },
   "outputs": [
    {
     "data": {
      "text/plain": [
       "{'n_estimators': 84,\n",
       " 'min_samples_split': 259,\n",
       " 'min_samples_leaf': 12,\n",
       " 'max_features': 'log2',\n",
       " 'max_depth': 4,\n",
       " 'learning_rate': 0.1,\n",
       " 'alpha': 0.9}"
      ]
     },
     "execution_count": 192,
     "metadata": {},
     "output_type": "execute_result"
    }
   ],
   "source": [
    "best_params2 = gb_random.best_params_\n",
    "best_params2"
   ]
  },
  {
   "cell_type": "code",
   "execution_count": null,
   "metadata": {
    "colab": {
     "base_uri": "https://localhost:8080/"
    },
    "id": "2vWVZfy8jfRC",
    "outputId": "fd5e755d-7816-4014-bedd-8d4b0688c180"
   },
   "outputs": [
    {
     "name": "stderr",
     "output_type": "stream",
     "text": [
      "<ipython-input-193-a7dc0aac7772>:5: DataConversionWarning: A column-vector y was passed when a 1d array was expected. Please change the shape of y to (n_samples,), for example using ravel().\n",
      "  best_rf_model.fit(X_train_scale, y_train_scale)\n"
     ]
    },
    {
     "name": "stdout",
     "output_type": "stream",
     "text": [
      "R-squared: 0.34940075248866365\n"
     ]
    }
   ],
   "source": [
    "# Create a new Random Forest model using the best parameters\n",
    "best_rf_model = RandomForestRegressor(**best_params)\n",
    "\n",
    "# Fit the best model on the scaled training data\n",
    "best_rf_model.fit(X_train_scale, y_train_scale)\n",
    "\n",
    "# Predict on the scaled test data\n",
    "y_pred = best_rf_model.predict(X_test_scale)\n",
    "\n",
    "# Calculate R-squared\n",
    "r2 = r2_score(y_test_scale, y_pred)\n",
    "print(f\"R-squared: {r2}\")"
   ]
  },
  {
   "cell_type": "code",
   "execution_count": null,
   "metadata": {
    "colab": {
     "base_uri": "https://localhost:8080/"
    },
    "id": "YVi8sJV79nVJ",
    "outputId": "3bf6f22f-2329-495e-e6a3-4896f655c111"
   },
   "outputs": [
    {
     "name": "stderr",
     "output_type": "stream",
     "text": [
      "/usr/local/lib/python3.10/dist-packages/sklearn/ensemble/_gb.py:437: DataConversionWarning: A column-vector y was passed when a 1d array was expected. Please change the shape of y to (n_samples, ), for example using ravel().\n",
      "  y = column_or_1d(y, warn=True)\n"
     ]
    },
    {
     "name": "stdout",
     "output_type": "stream",
     "text": [
      "R-squared: 0.3192670700169751\n"
     ]
    }
   ],
   "source": [
    "# Create a new Random Forest model using the best parameters\n",
    "best_gb_model = GradientBoostingRegressor(**best_params)\n",
    "\n",
    "# Fit the best model on the scaled training data\n",
    "best_gb_model.fit(X_train_scale, y_train_scale)\n",
    "\n",
    "# Predict on the scaled test data\n",
    "y_pred2 = best_gb_model.predict(X_test_scale)\n",
    "\n",
    "# Calculate R-squared\n",
    "r2 = r2_score(y_test_scale, y_pred2)\n",
    "print(f\"R-squared: {r2}\")"
   ]
  },
  {
   "cell_type": "code",
   "execution_count": null,
   "metadata": {
    "id": "uYJI-PXx9nPM"
   },
   "outputs": [],
   "source": [
    "from sklearn.neighbors import KNeighborsRegressor\n",
    "from sklearn.ensemble import VotingRegressor, StackingRegressor"
   ]
  },
  {
   "cell_type": "code",
   "execution_count": null,
   "metadata": {
    "colab": {
     "base_uri": "https://localhost:8080/",
     "height": 74
    },
    "id": "z5q12ALw9nMb",
    "outputId": "f11f96b3-007c-4c6b-d1e6-69c250fe7b6f"
   },
   "outputs": [
    {
     "data": {
      "text/html": [
       "<style>#sk-container-id-1 {color: black;background-color: white;}#sk-container-id-1 pre{padding: 0;}#sk-container-id-1 div.sk-toggleable {background-color: white;}#sk-container-id-1 label.sk-toggleable__label {cursor: pointer;display: block;width: 100%;margin-bottom: 0;padding: 0.3em;box-sizing: border-box;text-align: center;}#sk-container-id-1 label.sk-toggleable__label-arrow:before {content: \"▸\";float: left;margin-right: 0.25em;color: #696969;}#sk-container-id-1 label.sk-toggleable__label-arrow:hover:before {color: black;}#sk-container-id-1 div.sk-estimator:hover label.sk-toggleable__label-arrow:before {color: black;}#sk-container-id-1 div.sk-toggleable__content {max-height: 0;max-width: 0;overflow: hidden;text-align: left;background-color: #f0f8ff;}#sk-container-id-1 div.sk-toggleable__content pre {margin: 0.2em;color: black;border-radius: 0.25em;background-color: #f0f8ff;}#sk-container-id-1 input.sk-toggleable__control:checked~div.sk-toggleable__content {max-height: 200px;max-width: 100%;overflow: auto;}#sk-container-id-1 input.sk-toggleable__control:checked~label.sk-toggleable__label-arrow:before {content: \"▾\";}#sk-container-id-1 div.sk-estimator input.sk-toggleable__control:checked~label.sk-toggleable__label {background-color: #d4ebff;}#sk-container-id-1 div.sk-label input.sk-toggleable__control:checked~label.sk-toggleable__label {background-color: #d4ebff;}#sk-container-id-1 input.sk-hidden--visually {border: 0;clip: rect(1px 1px 1px 1px);clip: rect(1px, 1px, 1px, 1px);height: 1px;margin: -1px;overflow: hidden;padding: 0;position: absolute;width: 1px;}#sk-container-id-1 div.sk-estimator {font-family: monospace;background-color: #f0f8ff;border: 1px dotted black;border-radius: 0.25em;box-sizing: border-box;margin-bottom: 0.5em;}#sk-container-id-1 div.sk-estimator:hover {background-color: #d4ebff;}#sk-container-id-1 div.sk-parallel-item::after {content: \"\";width: 100%;border-bottom: 1px solid gray;flex-grow: 1;}#sk-container-id-1 div.sk-label:hover label.sk-toggleable__label {background-color: #d4ebff;}#sk-container-id-1 div.sk-serial::before {content: \"\";position: absolute;border-left: 1px solid gray;box-sizing: border-box;top: 0;bottom: 0;left: 50%;z-index: 0;}#sk-container-id-1 div.sk-serial {display: flex;flex-direction: column;align-items: center;background-color: white;padding-right: 0.2em;padding-left: 0.2em;position: relative;}#sk-container-id-1 div.sk-item {position: relative;z-index: 1;}#sk-container-id-1 div.sk-parallel {display: flex;align-items: stretch;justify-content: center;background-color: white;position: relative;}#sk-container-id-1 div.sk-item::before, #sk-container-id-1 div.sk-parallel-item::before {content: \"\";position: absolute;border-left: 1px solid gray;box-sizing: border-box;top: 0;bottom: 0;left: 50%;z-index: -1;}#sk-container-id-1 div.sk-parallel-item {display: flex;flex-direction: column;z-index: 1;position: relative;background-color: white;}#sk-container-id-1 div.sk-parallel-item:first-child::after {align-self: flex-end;width: 50%;}#sk-container-id-1 div.sk-parallel-item:last-child::after {align-self: flex-start;width: 50%;}#sk-container-id-1 div.sk-parallel-item:only-child::after {width: 0;}#sk-container-id-1 div.sk-dashed-wrapped {border: 1px dashed gray;margin: 0 0.4em 0.5em 0.4em;box-sizing: border-box;padding-bottom: 0.4em;background-color: white;}#sk-container-id-1 div.sk-label label {font-family: monospace;font-weight: bold;display: inline-block;line-height: 1.2em;}#sk-container-id-1 div.sk-label-container {text-align: center;}#sk-container-id-1 div.sk-container {/* jupyter's `normalize.less` sets `[hidden] { display: none; }` but bootstrap.min.css set `[hidden] { display: none !important; }` so we also need the `!important` here to be able to override the default hidden behavior on the sphinx rendered scikit-learn.org. See: https://github.com/scikit-learn/scikit-learn/issues/21755 */display: inline-block !important;position: relative;}#sk-container-id-1 div.sk-text-repr-fallback {display: none;}</style><div id=\"sk-container-id-1\" class=\"sk-top-container\"><div class=\"sk-text-repr-fallback\"><pre>KNeighborsRegressor(metric=&#x27;euclidean&#x27;, n_neighbors=15)</pre><b>In a Jupyter environment, please rerun this cell to show the HTML representation or trust the notebook. <br />On GitHub, the HTML representation is unable to render, please try loading this page with nbviewer.org.</b></div><div class=\"sk-container\" hidden><div class=\"sk-item\"><div class=\"sk-estimator sk-toggleable\"><input class=\"sk-toggleable__control sk-hidden--visually\" id=\"sk-estimator-id-1\" type=\"checkbox\" checked><label for=\"sk-estimator-id-1\" class=\"sk-toggleable__label sk-toggleable__label-arrow\">KNeighborsRegressor</label><div class=\"sk-toggleable__content\"><pre>KNeighborsRegressor(metric=&#x27;euclidean&#x27;, n_neighbors=15)</pre></div></div></div></div></div>"
      ],
      "text/plain": [
       "KNeighborsRegressor(metric='euclidean', n_neighbors=15)"
      ]
     },
     "execution_count": 196,
     "metadata": {},
     "output_type": "execute_result"
    }
   ],
   "source": [
    "lasso = Lasso(alpha=100, max_iter=10000)\n",
    "\n",
    "knr = KNeighborsRegressor(n_neighbors=15, metric='euclidean')\n",
    "\n",
    "lasso.fit(X_train_scale, y_train)\n",
    "knr.fit(X_train_scale, y_train_scale.ravel())\n"
   ]
  },
  {
   "cell_type": "code",
   "execution_count": null,
   "metadata": {
    "id": "t_nj22f_9nJ0"
   },
   "outputs": [],
   "source": [
    "vot_reg = VotingRegressor(estimators=[\n",
    "    ('rf', rf),\n",
    "    ('gb', gb),\n",
    "    ('lasso', lasso),\n",
    "    ('kn', knr)])\n",
    "\n",
    "vot_reg = vot_reg.fit(X_train_scale, y_train_scale.ravel())"
   ]
  },
  {
   "cell_type": "code",
   "execution_count": null,
   "metadata": {
    "colab": {
     "base_uri": "https://localhost:8080/"
    },
    "id": "q3J1doTd9nG8",
    "outputId": "09fb0350-249f-43ce-85d3-2ddd152dc3f4"
   },
   "outputs": [
    {
     "name": "stdout",
     "output_type": "stream",
     "text": [
      "VotingRegressor(estimators=[('rf',\n",
      "                             RandomForestRegressor(max_features='sqrt',\n",
      "                                                   min_samples_leaf=3,\n",
      "                                                   random_state=42)),\n",
      "                            ('gb',\n",
      "                             GradientBoostingRegressor(max_depth=4,\n",
      "                                                       max_features='log2',\n",
      "                                                       min_samples_leaf=10,\n",
      "                                                       min_samples_split=220,\n",
      "                                                       n_estimators=90,\n",
      "                                                       random_state=42)),\n",
      "                            ('lasso', Lasso(alpha=100, max_iter=10000)),\n",
      "                            ('kn',\n",
      "                             KNeighborsRegressor(metric='euclidean',\n",
      "                                                 n_neighbors=15))]) Model Performance\n",
      "R2 Score of Training = 0.370477.\n",
      "R2 Score of Validation = 0.337342.\n",
      "5-folds CV Score = 0.332671.\n"
     ]
    }
   ],
   "source": [
    "voting_accuracy = evaluate(vot_reg, X_train_scale, y_train_scale.ravel(), X_test_scale, y_test_scale.ravel(), X=X_scale, y=y)"
   ]
  },
  {
   "cell_type": "code",
   "execution_count": null,
   "metadata": {
    "colab": {
     "base_uri": "https://localhost:8080/"
    },
    "id": "FLhCIa6n9nBi",
    "outputId": "d8b39daf-af42-466f-d8b2-4fb28a264bb2"
   },
   "outputs": [
    {
     "name": "stdout",
     "output_type": "stream",
     "text": [
      "\n"
     ]
    }
   ],
   "source": [
    "# StackingRegressor\n",
    "estimators = [('rf', rf),\n",
    "              ('gb', gb),\n",
    "              ('lasso', lasso),\n",
    "              ('knr', knr)]\n",
    "\n",
    "final_estimator = lin_reg\n",
    "stk_reg = StackingRegressor(estimators=estimators, final_estimator=final_estimator)\n",
    "stk_reg.fit(X_train_scale, y_train_scale.ravel())\n",
    "print('')"
   ]
  },
  {
   "cell_type": "code",
   "execution_count": null,
   "metadata": {
    "colab": {
     "base_uri": "https://localhost:8080/"
    },
    "id": "17EOc2qQ9m-l",
    "outputId": "3d423da4-b6aa-4a1f-fcf8-b6c12e98df89"
   },
   "outputs": [
    {
     "name": "stdout",
     "output_type": "stream",
     "text": [
      "StackingRegressor(estimators=[('rf',\n",
      "                               RandomForestRegressor(max_features='sqrt',\n",
      "                                                     min_samples_leaf=3,\n",
      "                                                     random_state=42)),\n",
      "                              ('gb',\n",
      "                               GradientBoostingRegressor(max_depth=4,\n",
      "                                                         max_features='log2',\n",
      "                                                         min_samples_leaf=10,\n",
      "                                                         min_samples_split=220,\n",
      "                                                         n_estimators=90,\n",
      "                                                         random_state=42)),\n",
      "                              ('lasso', Lasso(alpha=100, max_iter=10000)),\n",
      "                              ('knr',\n",
      "                               KNeighborsRegressor(metric='euclidean',\n",
      "                                                   n_neighbors=15))],\n",
      "                  final_estimator=LinearRegression()) Model Performance\n",
      "R2 Score of Training = 0.399275.\n",
      "R2 Score of Validation = 0.361157.\n",
      "5-folds CV Score = 0.334298.\n"
     ]
    }
   ],
   "source": [
    "stk_accuracy = evaluate(stk_reg, X_train_scale, y_train_scale.ravel(), X_test_scale, y_test_scale.ravel(), X=X_scale, y=y)"
   ]
  },
  {
   "cell_type": "code",
   "execution_count": null,
   "metadata": {
    "id": "tK4Hr6g16fV6"
   },
   "outputs": [],
   "source": [
    "pip install pandas scikit-learn tensorflow"
   ]
  },
  {
   "cell_type": "code",
   "execution_count": null,
   "metadata": {
    "colab": {
     "base_uri": "https://localhost:8080/",
     "height": 423
    },
    "id": "ZMboRD94BRc6",
    "outputId": "af52c9ad-abbe-4bdc-f253-7c2568acb850"
   },
   "outputs": [
    {
     "data": {
      "text/html": [
       "\n",
       "  <div id=\"df-4090f393-753f-4c11-b65d-9096fde44e9f\" class=\"colab-df-container\">\n",
       "    <div>\n",
       "<style scoped>\n",
       "    .dataframe tbody tr th:only-of-type {\n",
       "        vertical-align: middle;\n",
       "    }\n",
       "\n",
       "    .dataframe tbody tr th {\n",
       "        vertical-align: top;\n",
       "    }\n",
       "\n",
       "    .dataframe thead th {\n",
       "        text-align: right;\n",
       "    }\n",
       "</style>\n",
       "<table border=\"1\" class=\"dataframe\">\n",
       "  <thead>\n",
       "    <tr style=\"text-align: right;\">\n",
       "      <th></th>\n",
       "      <th>Job Title</th>\n",
       "      <th>Experience Level</th>\n",
       "      <th>Expertise Level</th>\n",
       "      <th>Company Location</th>\n",
       "      <th>Salary in USD</th>\n",
       "      <th>Employee Residence</th>\n",
       "      <th>Company Size</th>\n",
       "      <th>Year</th>\n",
       "      <th>is_expatriate</th>\n",
       "    </tr>\n",
       "  </thead>\n",
       "  <tbody>\n",
       "    <tr>\n",
       "      <th>418</th>\n",
       "      <td>2</td>\n",
       "      <td>2</td>\n",
       "      <td>2</td>\n",
       "      <td>5</td>\n",
       "      <td>96750</td>\n",
       "      <td>United States</td>\n",
       "      <td>Medium</td>\n",
       "      <td>2023</td>\n",
       "      <td>No</td>\n",
       "    </tr>\n",
       "    <tr>\n",
       "      <th>2949</th>\n",
       "      <td>4</td>\n",
       "      <td>3</td>\n",
       "      <td>1</td>\n",
       "      <td>5</td>\n",
       "      <td>178800</td>\n",
       "      <td>United States</td>\n",
       "      <td>Large</td>\n",
       "      <td>2022</td>\n",
       "      <td>No</td>\n",
       "    </tr>\n",
       "    <tr>\n",
       "      <th>1855</th>\n",
       "      <td>8</td>\n",
       "      <td>3</td>\n",
       "      <td>1</td>\n",
       "      <td>5</td>\n",
       "      <td>181000</td>\n",
       "      <td>United States</td>\n",
       "      <td>Medium</td>\n",
       "      <td>2023</td>\n",
       "      <td>No</td>\n",
       "    </tr>\n",
       "    <tr>\n",
       "      <th>301</th>\n",
       "      <td>2</td>\n",
       "      <td>3</td>\n",
       "      <td>1</td>\n",
       "      <td>5</td>\n",
       "      <td>127876</td>\n",
       "      <td>United States</td>\n",
       "      <td>Medium</td>\n",
       "      <td>2023</td>\n",
       "      <td>No</td>\n",
       "    </tr>\n",
       "    <tr>\n",
       "      <th>1072</th>\n",
       "      <td>9</td>\n",
       "      <td>3</td>\n",
       "      <td>1</td>\n",
       "      <td>5</td>\n",
       "      <td>129000</td>\n",
       "      <td>United States</td>\n",
       "      <td>Medium</td>\n",
       "      <td>2023</td>\n",
       "      <td>No</td>\n",
       "    </tr>\n",
       "    <tr>\n",
       "      <th>...</th>\n",
       "      <td>...</td>\n",
       "      <td>...</td>\n",
       "      <td>...</td>\n",
       "      <td>...</td>\n",
       "      <td>...</td>\n",
       "      <td>...</td>\n",
       "      <td>...</td>\n",
       "      <td>...</td>\n",
       "      <td>...</td>\n",
       "    </tr>\n",
       "    <tr>\n",
       "      <th>346</th>\n",
       "      <td>8</td>\n",
       "      <td>3</td>\n",
       "      <td>1</td>\n",
       "      <td>5</td>\n",
       "      <td>267720</td>\n",
       "      <td>United States</td>\n",
       "      <td>Medium</td>\n",
       "      <td>2023</td>\n",
       "      <td>No</td>\n",
       "    </tr>\n",
       "    <tr>\n",
       "      <th>1594</th>\n",
       "      <td>5</td>\n",
       "      <td>2</td>\n",
       "      <td>2</td>\n",
       "      <td>5</td>\n",
       "      <td>95000</td>\n",
       "      <td>United States</td>\n",
       "      <td>Medium</td>\n",
       "      <td>2023</td>\n",
       "      <td>No</td>\n",
       "    </tr>\n",
       "    <tr>\n",
       "      <th>3179</th>\n",
       "      <td>9</td>\n",
       "      <td>3</td>\n",
       "      <td>1</td>\n",
       "      <td>5</td>\n",
       "      <td>221300</td>\n",
       "      <td>United States</td>\n",
       "      <td>Large</td>\n",
       "      <td>2022</td>\n",
       "      <td>No</td>\n",
       "    </tr>\n",
       "    <tr>\n",
       "      <th>681</th>\n",
       "      <td>6</td>\n",
       "      <td>3</td>\n",
       "      <td>1</td>\n",
       "      <td>3</td>\n",
       "      <td>71259</td>\n",
       "      <td>Spain</td>\n",
       "      <td>Medium</td>\n",
       "      <td>2023</td>\n",
       "      <td>No</td>\n",
       "    </tr>\n",
       "    <tr>\n",
       "      <th>1449</th>\n",
       "      <td>9</td>\n",
       "      <td>1</td>\n",
       "      <td>0</td>\n",
       "      <td>5</td>\n",
       "      <td>269600</td>\n",
       "      <td>United States</td>\n",
       "      <td>Medium</td>\n",
       "      <td>2023</td>\n",
       "      <td>No</td>\n",
       "    </tr>\n",
       "  </tbody>\n",
       "</table>\n",
       "<p>729 rows × 9 columns</p>\n",
       "</div>\n",
       "    <div class=\"colab-df-buttons\">\n",
       "\n",
       "  <div class=\"colab-df-container\">\n",
       "    <button class=\"colab-df-convert\" onclick=\"convertToInteractive('df-4090f393-753f-4c11-b65d-9096fde44e9f')\"\n",
       "            title=\"Convert this dataframe to an interactive table.\"\n",
       "            style=\"display:none;\">\n",
       "\n",
       "  <svg xmlns=\"http://www.w3.org/2000/svg\" height=\"24px\" viewBox=\"0 -960 960 960\">\n",
       "    <path d=\"M120-120v-720h720v720H120Zm60-500h600v-160H180v160Zm220 220h160v-160H400v160Zm0 220h160v-160H400v160ZM180-400h160v-160H180v160Zm440 0h160v-160H620v160ZM180-180h160v-160H180v160Zm440 0h160v-160H620v160Z\"/>\n",
       "  </svg>\n",
       "    </button>\n",
       "\n",
       "  <style>\n",
       "    .colab-df-container {\n",
       "      display:flex;\n",
       "      gap: 12px;\n",
       "    }\n",
       "\n",
       "    .colab-df-convert {\n",
       "      background-color: #E8F0FE;\n",
       "      border: none;\n",
       "      border-radius: 50%;\n",
       "      cursor: pointer;\n",
       "      display: none;\n",
       "      fill: #1967D2;\n",
       "      height: 32px;\n",
       "      padding: 0 0 0 0;\n",
       "      width: 32px;\n",
       "    }\n",
       "\n",
       "    .colab-df-convert:hover {\n",
       "      background-color: #E2EBFA;\n",
       "      box-shadow: 0px 1px 2px rgba(60, 64, 67, 0.3), 0px 1px 3px 1px rgba(60, 64, 67, 0.15);\n",
       "      fill: #174EA6;\n",
       "    }\n",
       "\n",
       "    .colab-df-buttons div {\n",
       "      margin-bottom: 4px;\n",
       "    }\n",
       "\n",
       "    [theme=dark] .colab-df-convert {\n",
       "      background-color: #3B4455;\n",
       "      fill: #D2E3FC;\n",
       "    }\n",
       "\n",
       "    [theme=dark] .colab-df-convert:hover {\n",
       "      background-color: #434B5C;\n",
       "      box-shadow: 0px 1px 3px 1px rgba(0, 0, 0, 0.15);\n",
       "      filter: drop-shadow(0px 1px 2px rgba(0, 0, 0, 0.3));\n",
       "      fill: #FFFFFF;\n",
       "    }\n",
       "  </style>\n",
       "\n",
       "    <script>\n",
       "      const buttonEl =\n",
       "        document.querySelector('#df-4090f393-753f-4c11-b65d-9096fde44e9f button.colab-df-convert');\n",
       "      buttonEl.style.display =\n",
       "        google.colab.kernel.accessAllowed ? 'block' : 'none';\n",
       "\n",
       "      async function convertToInteractive(key) {\n",
       "        const element = document.querySelector('#df-4090f393-753f-4c11-b65d-9096fde44e9f');\n",
       "        const dataTable =\n",
       "          await google.colab.kernel.invokeFunction('convertToInteractive',\n",
       "                                                    [key], {});\n",
       "        if (!dataTable) return;\n",
       "\n",
       "        const docLinkHtml = 'Like what you see? Visit the ' +\n",
       "          '<a target=\"_blank\" href=https://colab.research.google.com/notebooks/data_table.ipynb>data table notebook</a>'\n",
       "          + ' to learn more about interactive tables.';\n",
       "        element.innerHTML = '';\n",
       "        dataTable['output_type'] = 'display_data';\n",
       "        await google.colab.output.renderOutput(dataTable, element);\n",
       "        const docLink = document.createElement('div');\n",
       "        docLink.innerHTML = docLinkHtml;\n",
       "        element.appendChild(docLink);\n",
       "      }\n",
       "    </script>\n",
       "  </div>\n",
       "\n",
       "\n",
       "<div id=\"df-1257af60-1f33-47e7-8977-7bdec77a87c1\">\n",
       "  <button class=\"colab-df-quickchart\" onclick=\"quickchart('df-1257af60-1f33-47e7-8977-7bdec77a87c1')\"\n",
       "            title=\"Suggest charts.\"\n",
       "            style=\"display:none;\">\n",
       "\n",
       "<svg xmlns=\"http://www.w3.org/2000/svg\" height=\"24px\"viewBox=\"0 0 24 24\"\n",
       "     width=\"24px\">\n",
       "    <g>\n",
       "        <path d=\"M19 3H5c-1.1 0-2 .9-2 2v14c0 1.1.9 2 2 2h14c1.1 0 2-.9 2-2V5c0-1.1-.9-2-2-2zM9 17H7v-7h2v7zm4 0h-2V7h2v10zm4 0h-2v-4h2v4z\"/>\n",
       "    </g>\n",
       "</svg>\n",
       "  </button>\n",
       "\n",
       "<style>\n",
       "  .colab-df-quickchart {\n",
       "    background-color: #E8F0FE;\n",
       "    border: none;\n",
       "    border-radius: 50%;\n",
       "    cursor: pointer;\n",
       "    display: none;\n",
       "    fill: #1967D2;\n",
       "    height: 32px;\n",
       "    padding: 0 0 0 0;\n",
       "    width: 32px;\n",
       "  }\n",
       "\n",
       "  .colab-df-quickchart:hover {\n",
       "    background-color: #E2EBFA;\n",
       "    box-shadow: 0px 1px 2px rgba(60, 64, 67, 0.3), 0px 1px 3px 1px rgba(60, 64, 67, 0.15);\n",
       "    fill: #174EA6;\n",
       "  }\n",
       "\n",
       "  [theme=dark] .colab-df-quickchart {\n",
       "    background-color: #3B4455;\n",
       "    fill: #D2E3FC;\n",
       "  }\n",
       "\n",
       "  [theme=dark] .colab-df-quickchart:hover {\n",
       "    background-color: #434B5C;\n",
       "    box-shadow: 0px 1px 3px 1px rgba(0, 0, 0, 0.15);\n",
       "    filter: drop-shadow(0px 1px 2px rgba(0, 0, 0, 0.3));\n",
       "    fill: #FFFFFF;\n",
       "  }\n",
       "</style>\n",
       "\n",
       "  <script>\n",
       "    async function quickchart(key) {\n",
       "      const charts = await google.colab.kernel.invokeFunction(\n",
       "          'suggestCharts', [key], {});\n",
       "    }\n",
       "    (() => {\n",
       "      let quickchartButtonEl =\n",
       "        document.querySelector('#df-1257af60-1f33-47e7-8977-7bdec77a87c1 button');\n",
       "      quickchartButtonEl.style.display =\n",
       "        google.colab.kernel.accessAllowed ? 'block' : 'none';\n",
       "    })();\n",
       "  </script>\n",
       "</div>\n",
       "    </div>\n",
       "  </div>\n"
      ],
      "text/plain": [
       "      Job Title  Experience Level  Expertise Level  Company Location  \\\n",
       "418           2                 2                2                 5   \n",
       "2949          4                 3                1                 5   \n",
       "1855          8                 3                1                 5   \n",
       "301           2                 3                1                 5   \n",
       "1072          9                 3                1                 5   \n",
       "...         ...               ...              ...               ...   \n",
       "346           8                 3                1                 5   \n",
       "1594          5                 2                2                 5   \n",
       "3179          9                 3                1                 5   \n",
       "681           6                 3                1                 3   \n",
       "1449          9                 1                0                 5   \n",
       "\n",
       "      Salary in USD Employee Residence Company Size  Year is_expatriate  \n",
       "418           96750      United States       Medium  2023            No  \n",
       "2949         178800      United States        Large  2022            No  \n",
       "1855         181000      United States       Medium  2023            No  \n",
       "301          127876      United States       Medium  2023            No  \n",
       "1072         129000      United States       Medium  2023            No  \n",
       "...             ...                ...          ...   ...           ...  \n",
       "346          267720      United States       Medium  2023            No  \n",
       "1594          95000      United States       Medium  2023            No  \n",
       "3179         221300      United States        Large  2022            No  \n",
       "681           71259              Spain       Medium  2023            No  \n",
       "1449         269600      United States       Medium  2023            No  \n",
       "\n",
       "[729 rows x 9 columns]"
      ]
     },
     "execution_count": 53,
     "metadata": {},
     "output_type": "execute_result"
    }
   ],
   "source": [
    "X_test"
   ]
  },
  {
   "cell_type": "code",
   "execution_count": null,
   "metadata": {
    "id": "cjR2qIuuA_HG"
   },
   "outputs": [],
   "source": [
    "# Initialize LabelEncoder\n",
    "\n",
    "from sklearn.preprocessing import LabelEncoder\n",
    "\n",
    "label_encoders = {}\n",
    "for col in X_train.columns:\n",
    "    le = LabelEncoder()\n",
    "    X_train[col] = le.fit_transform(X_train[col])\n",
    "    X_test[col] = le.transform(X_test[col])\n",
    "    label_encoders[col] = le"
   ]
  },
  {
   "cell_type": "code",
   "execution_count": null,
   "metadata": {
    "colab": {
     "base_uri": "https://localhost:8080/",
     "height": 423
    },
    "id": "6pCXCL3aClnv",
    "outputId": "03134f2f-5ab3-4802-f3a8-f9a1615594ae"
   },
   "outputs": [
    {
     "data": {
      "text/html": [
       "\n",
       "  <div id=\"df-f2417b44-fa37-48c8-b8c5-bec367b5fc70\" class=\"colab-df-container\">\n",
       "    <div>\n",
       "<style scoped>\n",
       "    .dataframe tbody tr th:only-of-type {\n",
       "        vertical-align: middle;\n",
       "    }\n",
       "\n",
       "    .dataframe tbody tr th {\n",
       "        vertical-align: top;\n",
       "    }\n",
       "\n",
       "    .dataframe thead th {\n",
       "        text-align: right;\n",
       "    }\n",
       "</style>\n",
       "<table border=\"1\" class=\"dataframe\">\n",
       "  <thead>\n",
       "    <tr style=\"text-align: right;\">\n",
       "      <th></th>\n",
       "      <th>Job Title</th>\n",
       "      <th>Experience Level</th>\n",
       "      <th>Expertise Level</th>\n",
       "      <th>Company Location</th>\n",
       "      <th>Employee Residence</th>\n",
       "      <th>Company Size</th>\n",
       "      <th>Year</th>\n",
       "      <th>is_expatriate</th>\n",
       "    </tr>\n",
       "  </thead>\n",
       "  <tbody>\n",
       "    <tr>\n",
       "      <th>2878</th>\n",
       "      <td>4</td>\n",
       "      <td>3</td>\n",
       "      <td>1</td>\n",
       "      <td>5</td>\n",
       "      <td>6</td>\n",
       "      <td>0</td>\n",
       "      <td>2</td>\n",
       "      <td>0</td>\n",
       "    </tr>\n",
       "    <tr>\n",
       "      <th>3007</th>\n",
       "      <td>0</td>\n",
       "      <td>3</td>\n",
       "      <td>1</td>\n",
       "      <td>5</td>\n",
       "      <td>6</td>\n",
       "      <td>1</td>\n",
       "      <td>2</td>\n",
       "      <td>0</td>\n",
       "    </tr>\n",
       "    <tr>\n",
       "      <th>2300</th>\n",
       "      <td>9</td>\n",
       "      <td>3</td>\n",
       "      <td>1</td>\n",
       "      <td>5</td>\n",
       "      <td>6</td>\n",
       "      <td>1</td>\n",
       "      <td>3</td>\n",
       "      <td>0</td>\n",
       "    </tr>\n",
       "    <tr>\n",
       "      <th>1405</th>\n",
       "      <td>3</td>\n",
       "      <td>3</td>\n",
       "      <td>1</td>\n",
       "      <td>4</td>\n",
       "      <td>5</td>\n",
       "      <td>1</td>\n",
       "      <td>3</td>\n",
       "      <td>0</td>\n",
       "    </tr>\n",
       "    <tr>\n",
       "      <th>3424</th>\n",
       "      <td>7</td>\n",
       "      <td>2</td>\n",
       "      <td>2</td>\n",
       "      <td>2</td>\n",
       "      <td>3</td>\n",
       "      <td>2</td>\n",
       "      <td>1</td>\n",
       "      <td>0</td>\n",
       "    </tr>\n",
       "    <tr>\n",
       "      <th>...</th>\n",
       "      <td>...</td>\n",
       "      <td>...</td>\n",
       "      <td>...</td>\n",
       "      <td>...</td>\n",
       "      <td>...</td>\n",
       "      <td>...</td>\n",
       "      <td>...</td>\n",
       "      <td>...</td>\n",
       "    </tr>\n",
       "    <tr>\n",
       "      <th>1134</th>\n",
       "      <td>11</td>\n",
       "      <td>3</td>\n",
       "      <td>1</td>\n",
       "      <td>5</td>\n",
       "      <td>6</td>\n",
       "      <td>1</td>\n",
       "      <td>3</td>\n",
       "      <td>0</td>\n",
       "    </tr>\n",
       "    <tr>\n",
       "      <th>1301</th>\n",
       "      <td>4</td>\n",
       "      <td>3</td>\n",
       "      <td>1</td>\n",
       "      <td>5</td>\n",
       "      <td>6</td>\n",
       "      <td>1</td>\n",
       "      <td>3</td>\n",
       "      <td>0</td>\n",
       "    </tr>\n",
       "    <tr>\n",
       "      <th>863</th>\n",
       "      <td>4</td>\n",
       "      <td>3</td>\n",
       "      <td>1</td>\n",
       "      <td>5</td>\n",
       "      <td>6</td>\n",
       "      <td>1</td>\n",
       "      <td>3</td>\n",
       "      <td>0</td>\n",
       "    </tr>\n",
       "    <tr>\n",
       "      <th>3541</th>\n",
       "      <td>2</td>\n",
       "      <td>2</td>\n",
       "      <td>2</td>\n",
       "      <td>5</td>\n",
       "      <td>6</td>\n",
       "      <td>0</td>\n",
       "      <td>1</td>\n",
       "      <td>0</td>\n",
       "    </tr>\n",
       "    <tr>\n",
       "      <th>3202</th>\n",
       "      <td>9</td>\n",
       "      <td>2</td>\n",
       "      <td>2</td>\n",
       "      <td>5</td>\n",
       "      <td>6</td>\n",
       "      <td>1</td>\n",
       "      <td>2</td>\n",
       "      <td>0</td>\n",
       "    </tr>\n",
       "  </tbody>\n",
       "</table>\n",
       "<p>2912 rows × 8 columns</p>\n",
       "</div>\n",
       "    <div class=\"colab-df-buttons\">\n",
       "\n",
       "  <div class=\"colab-df-container\">\n",
       "    <button class=\"colab-df-convert\" onclick=\"convertToInteractive('df-f2417b44-fa37-48c8-b8c5-bec367b5fc70')\"\n",
       "            title=\"Convert this dataframe to an interactive table.\"\n",
       "            style=\"display:none;\">\n",
       "\n",
       "  <svg xmlns=\"http://www.w3.org/2000/svg\" height=\"24px\" viewBox=\"0 -960 960 960\">\n",
       "    <path d=\"M120-120v-720h720v720H120Zm60-500h600v-160H180v160Zm220 220h160v-160H400v160Zm0 220h160v-160H400v160ZM180-400h160v-160H180v160Zm440 0h160v-160H620v160ZM180-180h160v-160H180v160Zm440 0h160v-160H620v160Z\"/>\n",
       "  </svg>\n",
       "    </button>\n",
       "\n",
       "  <style>\n",
       "    .colab-df-container {\n",
       "      display:flex;\n",
       "      gap: 12px;\n",
       "    }\n",
       "\n",
       "    .colab-df-convert {\n",
       "      background-color: #E8F0FE;\n",
       "      border: none;\n",
       "      border-radius: 50%;\n",
       "      cursor: pointer;\n",
       "      display: none;\n",
       "      fill: #1967D2;\n",
       "      height: 32px;\n",
       "      padding: 0 0 0 0;\n",
       "      width: 32px;\n",
       "    }\n",
       "\n",
       "    .colab-df-convert:hover {\n",
       "      background-color: #E2EBFA;\n",
       "      box-shadow: 0px 1px 2px rgba(60, 64, 67, 0.3), 0px 1px 3px 1px rgba(60, 64, 67, 0.15);\n",
       "      fill: #174EA6;\n",
       "    }\n",
       "\n",
       "    .colab-df-buttons div {\n",
       "      margin-bottom: 4px;\n",
       "    }\n",
       "\n",
       "    [theme=dark] .colab-df-convert {\n",
       "      background-color: #3B4455;\n",
       "      fill: #D2E3FC;\n",
       "    }\n",
       "\n",
       "    [theme=dark] .colab-df-convert:hover {\n",
       "      background-color: #434B5C;\n",
       "      box-shadow: 0px 1px 3px 1px rgba(0, 0, 0, 0.15);\n",
       "      filter: drop-shadow(0px 1px 2px rgba(0, 0, 0, 0.3));\n",
       "      fill: #FFFFFF;\n",
       "    }\n",
       "  </style>\n",
       "\n",
       "    <script>\n",
       "      const buttonEl =\n",
       "        document.querySelector('#df-f2417b44-fa37-48c8-b8c5-bec367b5fc70 button.colab-df-convert');\n",
       "      buttonEl.style.display =\n",
       "        google.colab.kernel.accessAllowed ? 'block' : 'none';\n",
       "\n",
       "      async function convertToInteractive(key) {\n",
       "        const element = document.querySelector('#df-f2417b44-fa37-48c8-b8c5-bec367b5fc70');\n",
       "        const dataTable =\n",
       "          await google.colab.kernel.invokeFunction('convertToInteractive',\n",
       "                                                    [key], {});\n",
       "        if (!dataTable) return;\n",
       "\n",
       "        const docLinkHtml = 'Like what you see? Visit the ' +\n",
       "          '<a target=\"_blank\" href=https://colab.research.google.com/notebooks/data_table.ipynb>data table notebook</a>'\n",
       "          + ' to learn more about interactive tables.';\n",
       "        element.innerHTML = '';\n",
       "        dataTable['output_type'] = 'display_data';\n",
       "        await google.colab.output.renderOutput(dataTable, element);\n",
       "        const docLink = document.createElement('div');\n",
       "        docLink.innerHTML = docLinkHtml;\n",
       "        element.appendChild(docLink);\n",
       "      }\n",
       "    </script>\n",
       "  </div>\n",
       "\n",
       "\n",
       "<div id=\"df-682f9443-a50e-4709-ba98-06c8048cd1c0\">\n",
       "  <button class=\"colab-df-quickchart\" onclick=\"quickchart('df-682f9443-a50e-4709-ba98-06c8048cd1c0')\"\n",
       "            title=\"Suggest charts.\"\n",
       "            style=\"display:none;\">\n",
       "\n",
       "<svg xmlns=\"http://www.w3.org/2000/svg\" height=\"24px\"viewBox=\"0 0 24 24\"\n",
       "     width=\"24px\">\n",
       "    <g>\n",
       "        <path d=\"M19 3H5c-1.1 0-2 .9-2 2v14c0 1.1.9 2 2 2h14c1.1 0 2-.9 2-2V5c0-1.1-.9-2-2-2zM9 17H7v-7h2v7zm4 0h-2V7h2v10zm4 0h-2v-4h2v4z\"/>\n",
       "    </g>\n",
       "</svg>\n",
       "  </button>\n",
       "\n",
       "<style>\n",
       "  .colab-df-quickchart {\n",
       "    background-color: #E8F0FE;\n",
       "    border: none;\n",
       "    border-radius: 50%;\n",
       "    cursor: pointer;\n",
       "    display: none;\n",
       "    fill: #1967D2;\n",
       "    height: 32px;\n",
       "    padding: 0 0 0 0;\n",
       "    width: 32px;\n",
       "  }\n",
       "\n",
       "  .colab-df-quickchart:hover {\n",
       "    background-color: #E2EBFA;\n",
       "    box-shadow: 0px 1px 2px rgba(60, 64, 67, 0.3), 0px 1px 3px 1px rgba(60, 64, 67, 0.15);\n",
       "    fill: #174EA6;\n",
       "  }\n",
       "\n",
       "  [theme=dark] .colab-df-quickchart {\n",
       "    background-color: #3B4455;\n",
       "    fill: #D2E3FC;\n",
       "  }\n",
       "\n",
       "  [theme=dark] .colab-df-quickchart:hover {\n",
       "    background-color: #434B5C;\n",
       "    box-shadow: 0px 1px 3px 1px rgba(0, 0, 0, 0.15);\n",
       "    filter: drop-shadow(0px 1px 2px rgba(0, 0, 0, 0.3));\n",
       "    fill: #FFFFFF;\n",
       "  }\n",
       "</style>\n",
       "\n",
       "  <script>\n",
       "    async function quickchart(key) {\n",
       "      const charts = await google.colab.kernel.invokeFunction(\n",
       "          'suggestCharts', [key], {});\n",
       "    }\n",
       "    (() => {\n",
       "      let quickchartButtonEl =\n",
       "        document.querySelector('#df-682f9443-a50e-4709-ba98-06c8048cd1c0 button');\n",
       "      quickchartButtonEl.style.display =\n",
       "        google.colab.kernel.accessAllowed ? 'block' : 'none';\n",
       "    })();\n",
       "  </script>\n",
       "</div>\n",
       "    </div>\n",
       "  </div>\n"
      ],
      "text/plain": [
       "      Job Title  Experience Level  Expertise Level  Company Location  \\\n",
       "2878          4                 3                1                 5   \n",
       "3007          0                 3                1                 5   \n",
       "2300          9                 3                1                 5   \n",
       "1405          3                 3                1                 4   \n",
       "3424          7                 2                2                 2   \n",
       "...         ...               ...              ...               ...   \n",
       "1134         11                 3                1                 5   \n",
       "1301          4                 3                1                 5   \n",
       "863           4                 3                1                 5   \n",
       "3541          2                 2                2                 5   \n",
       "3202          9                 2                2                 5   \n",
       "\n",
       "      Employee Residence  Company Size  Year  is_expatriate  \n",
       "2878                   6             0     2              0  \n",
       "3007                   6             1     2              0  \n",
       "2300                   6             1     3              0  \n",
       "1405                   5             1     3              0  \n",
       "3424                   3             2     1              0  \n",
       "...                  ...           ...   ...            ...  \n",
       "1134                   6             1     3              0  \n",
       "1301                   6             1     3              0  \n",
       "863                    6             1     3              0  \n",
       "3541                   6             0     1              0  \n",
       "3202                   6             1     2              0  \n",
       "\n",
       "[2912 rows x 8 columns]"
      ]
     },
     "execution_count": 93,
     "metadata": {},
     "output_type": "execute_result"
    }
   ],
   "source": [
    "X_train"
   ]
  },
  {
   "cell_type": "code",
   "execution_count": null,
   "metadata": {
    "id": "U5P5jL0q-AqK"
   },
   "outputs": [],
   "source": [
    "import tensorflow as tf\n",
    "from tensorflow.keras.layers import Input, Embedding, Flatten, concatenate\n",
    "from tensorflow.keras.models import Model\n",
    "\n",
    "# Define the input layers\n",
    "input_layers = []\n",
    "encoded_layers = []\n",
    "\n",
    "for col in X_train.columns:\n",
    "    input_layer = Input(shape=(1,), name=col)\n",
    "    input_layers.append(input_layer)\n",
    "\n",
    "    num_categories = X_train[col].nunique()\n",
    "    embed_size = 4  # You can adjust this as needed\n",
    "    embedding_layer = Embedding(num_categories, embed_size)(input_layer)\n",
    "    encoded_layers.append(Flatten()(embedding_layer))\n",
    "\n",
    "# Concatenate all encoded layers\n",
    "merged_layer = concatenate(encoded_layers)\n",
    "\n",
    "# Define the model\n",
    "model = Model(inputs=input_layers, outputs=merged_layer)\n"
   ]
  },
  {
   "cell_type": "code",
   "execution_count": null,
   "metadata": {
    "colab": {
     "base_uri": "https://localhost:8080/"
    },
    "id": "IJBEgcH1_4Er",
    "outputId": "89c9efca-7b06-4cc7-f638-011bed081ede"
   },
   "outputs": [
    {
     "name": "stdout",
     "output_type": "stream",
     "text": [
      "Epoch 1/10\n",
      "91/91 [==============================] - 2s 3ms/step - loss: 25129252864.0000\n",
      "Epoch 2/10\n",
      "91/91 [==============================] - 0s 3ms/step - loss: 25129230336.0000\n",
      "Epoch 3/10\n",
      "91/91 [==============================] - 0s 3ms/step - loss: 25129207808.0000\n",
      "Epoch 4/10\n",
      "91/91 [==============================] - 0s 3ms/step - loss: 25129181184.0000\n",
      "Epoch 5/10\n",
      "91/91 [==============================] - 0s 2ms/step - loss: 25129154560.0000\n",
      "Epoch 6/10\n",
      "91/91 [==============================] - 0s 3ms/step - loss: 25129125888.0000\n",
      "Epoch 7/10\n",
      "91/91 [==============================] - 0s 3ms/step - loss: 25129107456.0000\n",
      "Epoch 8/10\n",
      "91/91 [==============================] - 0s 3ms/step - loss: 25129074688.0000\n",
      "Epoch 9/10\n",
      "91/91 [==============================] - 0s 3ms/step - loss: 25129054208.0000\n",
      "Epoch 10/10\n",
      "91/91 [==============================] - 0s 3ms/step - loss: 25129029632.0000\n"
     ]
    },
    {
     "data": {
      "text/plain": [
       "<keras.src.callbacks.History at 0x7d2a57ba7460>"
      ]
     },
     "execution_count": 95,
     "metadata": {},
     "output_type": "execute_result"
    }
   ],
   "source": [
    "# Compile the model\n",
    "model.compile(optimizer='adam', loss='mse')  # Choose an appropriate loss function\n",
    "\n",
    "# Convert categorical columns to lists of arrays\n",
    "X_train_encoded = [X_train[col].values for col in X_train.columns]\n",
    "\n",
    "# Fit the model\n",
    "model.fit(X_train_encoded, y_train, epochs=10, batch_size=32)  # Adjust epochs and batch_size as needed\n"
   ]
  },
  {
   "cell_type": "code",
   "execution_count": null,
   "metadata": {
    "colab": {
     "base_uri": "https://localhost:8080/"
    },
    "id": "OKJGzJXTADB5",
    "outputId": "e3ccdde9-22be-4507-e5cc-ca2593dd0f07"
   },
   "outputs": [
    {
     "name": "stdout",
     "output_type": "stream",
     "text": [
      "91/91 [==============================] - 1s 4ms/step\n",
      "23/23 [==============================] - 0s 3ms/step\n"
     ]
    }
   ],
   "source": [
    "# Convert categorical columns of test data to lists of arrays\n",
    "X_test_encoded = [X_test[col].values for col in X_test.columns]\n",
    "\n",
    "# Get the transformed features from the embedding model\n",
    "X_train_embedded = model.predict(X_train_encoded)\n",
    "X_test_embedded = model.predict(X_test_encoded)\n",
    "\n",
    "# Now you can use X_train_embedded and X_test_embedded for your machine learning algorithms\n"
   ]
  },
  {
   "cell_type": "code",
   "execution_count": null,
   "metadata": {
    "colab": {
     "base_uri": "https://localhost:8080/"
    },
    "id": "GWzWFZQSDHrm",
    "outputId": "5a1109c4-d60b-4a77-94b4-d0cbaea8847d",
    "scrolled": true
   },
   "outputs": [
    {
     "data": {
      "text/plain": [
       "[array([4, 0, 9, ..., 4, 2, 9]),\n",
       " array([3, 3, 3, ..., 3, 2, 2]),\n",
       " array([1, 1, 1, ..., 1, 2, 2]),\n",
       " array([5, 5, 5, ..., 5, 5, 5]),\n",
       " array([6, 6, 6, ..., 6, 6, 6]),\n",
       " array([0, 1, 1, ..., 1, 0, 1]),\n",
       " array([2, 2, 3, ..., 3, 1, 2]),\n",
       " array([0, 0, 0, ..., 0, 0, 0])]"
      ]
     },
     "execution_count": 100,
     "metadata": {},
     "output_type": "execute_result"
    }
   ],
   "source": [
    "X_train_encoded"
   ]
  },
  {
   "cell_type": "code",
   "execution_count": null,
   "metadata": {},
   "outputs": [],
   "source": [
    "from sklearn.ensemble import RandomForestRegressor\n",
    "from sklearn.metrics import mean_squared_error\n",
    "\n",
    "# Initialize and train Random Forest model\n",
    "rf_model = RandomForestRegressor(n_estimators=100, random_state=42)  # You can adjust parameters as needed\n",
    "rf_model.fit(X_train_encoded, y_train)\n",
    "\n",
    "# Predict on test data\n",
    "y_pred = rf_model.predict(X_test_encoded)\n",
    "\n",
    "# Calculate Mean Squared Error (MSE)\n",
    "mse = mean_squared_error(y_test, y_pred)\n",
    "print(f\"Mean Squared Error: {mse}\")\n"
   ]
  },
  {
   "cell_type": "code",
   "execution_count": null,
   "metadata": {
    "colab": {
     "base_uri": "https://localhost:8080/"
    },
    "id": "ZK3EBiTuDcso",
    "outputId": "f02bd517-39a4-4ca5-ef99-ee3b91a3f3e4"
   },
   "outputs": [
    {
     "name": "stdout",
     "output_type": "stream",
     "text": [
      "<class 'pandas.core.frame.DataFrame'>\n",
      "Int64Index: 3641 entries, 0 to 3682\n",
      "Data columns (total 11 columns):\n",
      " #   Column              Non-Null Count  Dtype \n",
      "---  ------              --------------  ----- \n",
      " 0   Job Title           3641 non-null   object\n",
      " 1   Experience Level    3641 non-null   object\n",
      " 2   Expertise Level     3641 non-null   object\n",
      " 3   Salary              3641 non-null   int64 \n",
      " 4   Salary Currency     3641 non-null   object\n",
      " 5   Company Location    3641 non-null   object\n",
      " 6   Salary in USD       3641 non-null   int64 \n",
      " 7   Employee Residence  3641 non-null   object\n",
      " 8   Company Size        3641 non-null   object\n",
      " 9   Year                3641 non-null   int64 \n",
      " 10  is_expatriate       3641 non-null   object\n",
      "dtypes: int64(3), object(8)\n",
      "memory usage: 341.3+ KB\n"
     ]
    }
   ],
   "source": [
    "df.info()"
   ]
  },
  {
   "cell_type": "code",
   "execution_count": null,
   "metadata": {
    "id": "bWzSX9tbWk-H"
   },
   "outputs": [],
   "source": [
    "### ----- Auto Encoder ----- ####\n",
    "#Ref - https://towardsdatascience.com/introduction-to-autoencoders-7a47cf4ef14b"
   ]
  },
  {
   "cell_type": "code",
   "execution_count": null,
   "metadata": {
    "id": "_1Wcei1nHbB4"
   },
   "outputs": [],
   "source": [
    "### ANN\n",
    "\n",
    "from sklearn.preprocessing import MinMaxScaler\n",
    "from sklearn.model_selection import train_test_split\n",
    "from tensorflow.keras.layers import LeakyReLU\n",
    "from tensorflow.keras.models import Model\n",
    "from tensorflow.keras.layers import Input\n",
    "from tensorflow.keras.layers import Dense\n",
    "from tensorflow.keras.layers import BatchNormalization\n",
    "from tensorflow.keras.models import load_model\n",
    "\n",
    "\n",
    "# AutoEncoder Model Preparation\n",
    "n_inputs = X_train_scale.shape[1]\n",
    "# define encoder\n",
    "input_data_shape= Input(shape=(n_inputs,))\n",
    "# encoder level 1\n",
    "encoder= Dense(n_inputs*2)(input_data_shape)\n",
    "encoder = BatchNormalization()(encoder)\n",
    "encoder= LeakyReLU()(encoder)\n",
    "# encoder level 2\n",
    "encoder= Dense(n_inputs)(encoder)\n",
    "encoder= BatchNormalization()(encoder)\n",
    "encoder= LeakyReLU()(encoder)\n",
    "# bottleneck\n",
    "n_bottleneck = round(float(n_inputs) / 2.0)\n",
    "bottleneck = Dense(n_bottleneck)(encoder)\n",
    "# define decoder, level 1\n",
    "decoder = Dense(n_inputs)(bottleneck)\n",
    "decoder = BatchNormalization()(decoder)\n",
    "decoder = LeakyReLU()(decoder)\n",
    "# decoder level 2\n",
    "decoder = Dense(n_inputs*2)(decoder)\n",
    "decoder = BatchNormalization()(decoder)\n",
    "decoder = LeakyReLU()(decoder)"
   ]
  },
  {
   "cell_type": "code",
   "execution_count": null,
   "metadata": {
    "id": "1Sb2JrvVHbGW"
   },
   "outputs": [],
   "source": [
    "# output layer\n",
    "output = Dense(n_inputs, activation='linear')(decoder)\n",
    "# define autoencoder model\n",
    "model = Model(inputs=input_data_shape, outputs=output)\n",
    "# compile autoencoder model\n",
    "model.compile(optimizer='adam', loss='mse')"
   ]
  },
  {
   "cell_type": "code",
   "execution_count": null,
   "metadata": {
    "colab": {
     "base_uri": "https://localhost:8080/"
    },
    "id": "sGMTb03FJAni",
    "outputId": "0d83cc00-78ab-4741-97a5-6f94fdd72b05"
   },
   "outputs": [
    {
     "name": "stdout",
     "output_type": "stream",
     "text": [
      "Model: \"model_4\"\n",
      "_________________________________________________________________\n",
      " Layer (type)                Output Shape              Param #   \n",
      "=================================================================\n",
      " input_3 (InputLayer)        [(None, 30)]              0         \n",
      "                                                                 \n",
      " dense_12 (Dense)            (None, 60)                1860      \n",
      "                                                                 \n",
      " batch_normalization_8 (Bat  (None, 60)                240       \n",
      " chNormalization)                                                \n",
      "                                                                 \n",
      " leaky_re_lu_8 (LeakyReLU)   (None, 60)                0         \n",
      "                                                                 \n",
      " dense_13 (Dense)            (None, 30)                1830      \n",
      "                                                                 \n",
      " batch_normalization_9 (Bat  (None, 30)                120       \n",
      " chNormalization)                                                \n",
      "                                                                 \n",
      " leaky_re_lu_9 (LeakyReLU)   (None, 30)                0         \n",
      "                                                                 \n",
      " dense_14 (Dense)            (None, 15)                465       \n",
      "                                                                 \n",
      " dense_15 (Dense)            (None, 30)                480       \n",
      "                                                                 \n",
      " batch_normalization_10 (Ba  (None, 30)                120       \n",
      " tchNormalization)                                               \n",
      "                                                                 \n",
      " leaky_re_lu_10 (LeakyReLU)  (None, 30)                0         \n",
      "                                                                 \n",
      " dense_16 (Dense)            (None, 60)                1860      \n",
      "                                                                 \n",
      " batch_normalization_11 (Ba  (None, 60)                240       \n",
      " tchNormalization)                                               \n",
      "                                                                 \n",
      " leaky_re_lu_11 (LeakyReLU)  (None, 60)                0         \n",
      "                                                                 \n",
      " dense_17 (Dense)            (None, 30)                1830      \n",
      "                                                                 \n",
      "=================================================================\n",
      "Total params: 9045 (35.33 KB)\n",
      "Trainable params: 8685 (33.93 KB)\n",
      "Non-trainable params: 360 (1.41 KB)\n",
      "_________________________________________________________________\n"
     ]
    }
   ],
   "source": [
    "model.summary()"
   ]
  },
  {
   "cell_type": "code",
   "execution_count": null,
   "metadata": {
    "colab": {
     "base_uri": "https://localhost:8080/"
    },
    "id": "_ktV4Zm9JCb1",
    "outputId": "d9b1e49c-63fe-49c6-f35d-e90e114d39ed"
   },
   "outputs": [
    {
     "name": "stdout",
     "output_type": "stream",
     "text": [
      "Epoch 1/50\n",
      "182/182 - 6s - loss: 1.9912 - val_loss: 0.8958 - 6s/epoch - 33ms/step\n",
      "Epoch 2/50\n",
      "182/182 - 1s - loss: 0.7508 - val_loss: 0.6703 - 973ms/epoch - 5ms/step\n",
      "Epoch 3/50\n",
      "182/182 - 1s - loss: 0.7097 - val_loss: 0.6346 - 1s/epoch - 6ms/step\n",
      "Epoch 4/50\n",
      "182/182 - 1s - loss: 0.7003 - val_loss: 0.6375 - 1s/epoch - 6ms/step\n",
      "Epoch 5/50\n",
      "182/182 - 1s - loss: 0.6856 - val_loss: 0.6264 - 1s/epoch - 6ms/step\n",
      "Epoch 6/50\n",
      "182/182 - 1s - loss: 0.6885 - val_loss: 0.6231 - 754ms/epoch - 4ms/step\n",
      "Epoch 7/50\n",
      "182/182 - 1s - loss: 0.6811 - val_loss: 0.6338 - 641ms/epoch - 4ms/step\n",
      "Epoch 8/50\n",
      "182/182 - 1s - loss: 0.6790 - val_loss: 0.6107 - 600ms/epoch - 3ms/step\n",
      "Epoch 9/50\n",
      "182/182 - 1s - loss: 0.6781 - val_loss: 0.6246 - 601ms/epoch - 3ms/step\n",
      "Epoch 10/50\n",
      "182/182 - 1s - loss: 0.6667 - val_loss: 0.6104 - 589ms/epoch - 3ms/step\n",
      "Epoch 11/50\n",
      "182/182 - 1s - loss: 0.6614 - val_loss: 0.6064 - 664ms/epoch - 4ms/step\n",
      "Epoch 12/50\n",
      "182/182 - 1s - loss: 0.6620 - val_loss: 0.6130 - 659ms/epoch - 4ms/step\n",
      "Epoch 13/50\n",
      "182/182 - 1s - loss: 0.6741 - val_loss: 0.6079 - 680ms/epoch - 4ms/step\n",
      "Epoch 14/50\n",
      "182/182 - 1s - loss: 0.6792 - val_loss: 0.6024 - 657ms/epoch - 4ms/step\n",
      "Epoch 15/50\n",
      "182/182 - 1s - loss: 0.6505 - val_loss: 0.6190 - 596ms/epoch - 3ms/step\n",
      "Epoch 16/50\n",
      "182/182 - 1s - loss: 0.6576 - val_loss: 0.6429 - 648ms/epoch - 4ms/step\n",
      "Epoch 17/50\n",
      "182/182 - 1s - loss: 0.6695 - val_loss: 0.5987 - 555ms/epoch - 3ms/step\n",
      "Epoch 18/50\n",
      "182/182 - 1s - loss: 0.6477 - val_loss: 0.5980 - 863ms/epoch - 5ms/step\n",
      "Epoch 19/50\n",
      "182/182 - 1s - loss: 0.6386 - val_loss: 0.6052 - 996ms/epoch - 5ms/step\n",
      "Epoch 20/50\n",
      "182/182 - 1s - loss: 0.6616 - val_loss: 0.6252 - 958ms/epoch - 5ms/step\n",
      "Epoch 21/50\n",
      "182/182 - 1s - loss: 0.6453 - val_loss: 0.6120 - 1s/epoch - 6ms/step\n",
      "Epoch 22/50\n",
      "182/182 - 1s - loss: 0.6481 - val_loss: 0.6178 - 1s/epoch - 6ms/step\n",
      "Epoch 23/50\n",
      "182/182 - 1s - loss: 0.6256 - val_loss: 0.6082 - 1s/epoch - 6ms/step\n",
      "Epoch 24/50\n",
      "182/182 - 1s - loss: 0.6495 - val_loss: 0.5974 - 725ms/epoch - 4ms/step\n",
      "Epoch 25/50\n",
      "182/182 - 1s - loss: 0.6625 - val_loss: 0.6174 - 694ms/epoch - 4ms/step\n",
      "Epoch 26/50\n",
      "182/182 - 1s - loss: 0.6502 - val_loss: 0.6116 - 677ms/epoch - 4ms/step\n",
      "Epoch 27/50\n",
      "182/182 - 1s - loss: 0.6466 - val_loss: 0.6176 - 660ms/epoch - 4ms/step\n",
      "Epoch 28/50\n",
      "182/182 - 1s - loss: 0.6394 - val_loss: 0.6091 - 618ms/epoch - 3ms/step\n",
      "Epoch 29/50\n",
      "182/182 - 1s - loss: 0.6416 - val_loss: 0.5970 - 679ms/epoch - 4ms/step\n",
      "Epoch 30/50\n",
      "182/182 - 1s - loss: 0.6398 - val_loss: 0.6098 - 702ms/epoch - 4ms/step\n",
      "Epoch 31/50\n",
      "182/182 - 1s - loss: 0.6433 - val_loss: 0.5953 - 613ms/epoch - 3ms/step\n",
      "Epoch 32/50\n",
      "182/182 - 1s - loss: 0.6374 - val_loss: 0.6024 - 641ms/epoch - 4ms/step\n",
      "Epoch 33/50\n",
      "182/182 - 1s - loss: 0.6344 - val_loss: 0.5964 - 676ms/epoch - 4ms/step\n",
      "Epoch 34/50\n",
      "182/182 - 1s - loss: 0.6273 - val_loss: 0.6043 - 549ms/epoch - 3ms/step\n",
      "Epoch 35/50\n",
      "182/182 - 1s - loss: 0.6415 - val_loss: 0.6011 - 668ms/epoch - 4ms/step\n",
      "Epoch 36/50\n",
      "182/182 - 1s - loss: 0.6488 - val_loss: 0.6059 - 1s/epoch - 6ms/step\n",
      "Epoch 37/50\n",
      "182/182 - 1s - loss: 0.6300 - val_loss: 0.6407 - 1s/epoch - 6ms/step\n",
      "Epoch 38/50\n",
      "182/182 - 1s - loss: 0.6351 - val_loss: 0.6119 - 1s/epoch - 6ms/step\n",
      "Epoch 39/50\n",
      "182/182 - 1s - loss: 0.6341 - val_loss: 0.6148 - 1s/epoch - 6ms/step\n",
      "Epoch 40/50\n",
      "182/182 - 1s - loss: 0.6399 - val_loss: 0.5947 - 1s/epoch - 6ms/step\n",
      "Epoch 41/50\n",
      "182/182 - 1s - loss: 0.6335 - val_loss: 0.6132 - 1s/epoch - 6ms/step\n",
      "Epoch 42/50\n",
      "182/182 - 1s - loss: 0.6463 - val_loss: 0.6177 - 624ms/epoch - 3ms/step\n",
      "Epoch 43/50\n",
      "182/182 - 1s - loss: 0.6287 - val_loss: 0.6007 - 673ms/epoch - 4ms/step\n",
      "Epoch 44/50\n",
      "182/182 - 1s - loss: 0.6332 - val_loss: 0.6001 - 848ms/epoch - 5ms/step\n",
      "Epoch 45/50\n",
      "182/182 - 1s - loss: 0.6264 - val_loss: 0.6146 - 1s/epoch - 6ms/step\n",
      "Epoch 46/50\n",
      "182/182 - 1s - loss: 0.6342 - val_loss: 0.5957 - 899ms/epoch - 5ms/step\n",
      "Epoch 47/50\n",
      "182/182 - 1s - loss: 0.6385 - val_loss: 0.6247 - 1s/epoch - 6ms/step\n",
      "Epoch 48/50\n",
      "182/182 - 1s - loss: 0.6320 - val_loss: 0.6571 - 1s/epoch - 6ms/step\n",
      "Epoch 49/50\n",
      "182/182 - 1s - loss: 0.6258 - val_loss: 0.6022 - 1s/epoch - 7ms/step\n",
      "Epoch 50/50\n",
      "182/182 - 1s - loss: 0.6324 - val_loss: 0.6034 - 1s/epoch - 6ms/step\n"
     ]
    }
   ],
   "source": [
    "# fit the autoencoder model to reconstruct input\n",
    "history = model.fit(X_train_scale, y_train_scale, epochs=50, batch_size=16, verbose=2, validation_data=(X_test_scale,y_test_scale))"
   ]
  },
  {
   "cell_type": "code",
   "execution_count": null,
   "metadata": {
    "colab": {
     "base_uri": "https://localhost:8080/"
    },
    "id": "JnQebGlaJHOE",
    "outputId": "268665c5-e5e2-4dc8-dca3-b967dfd26b59"
   },
   "outputs": [
    {
     "name": "stderr",
     "output_type": "stream",
     "text": [
      "/usr/local/lib/python3.10/dist-packages/keras/src/engine/training.py:3000: UserWarning: You are saving your model as an HDF5 file via `model.save()`. This file format is considered legacy. We recommend using instead the native Keras format, e.g. `model.save('my_model.keras')`.\n",
      "  saving_api.save_model(\n",
      "WARNING:tensorflow:Compiled the loaded model, but the compiled metrics have yet to be built. `model.compile_metrics` will be empty until you train or evaluate the model.\n"
     ]
    }
   ],
   "source": [
    "# define an encoder model (without the decoder)\n",
    "encoder = Model(inputs=input_data_shape, outputs=bottleneck)\n",
    "# save the encoder to file\n",
    "encoder.save('encoder.h5')"
   ]
  },
  {
   "cell_type": "code",
   "execution_count": null,
   "metadata": {
    "colab": {
     "base_uri": "https://localhost:8080/"
    },
    "id": "qQSj_tk2KUaI",
    "outputId": "ec751f70-14fe-4f91-c823-64481a6c640e"
   },
   "outputs": [
    {
     "name": "stderr",
     "output_type": "stream",
     "text": [
      "WARNING:tensorflow:No training configuration found in the save file, so the model was *not* compiled. Compile it manually.\n"
     ]
    },
    {
     "name": "stdout",
     "output_type": "stream",
     "text": [
      "91/91 [==============================] - 0s 2ms/step\n",
      "23/23 [==============================] - 0s 5ms/step\n"
     ]
    }
   ],
   "source": [
    "# load the model from file\n",
    "encoder = load_model('encoder.h5')\n",
    "\n",
    "# encode the train data\n",
    "X_train_encode = encoder.predict(X_train_scale)\n",
    "# encode the test data\n",
    "X_test_encode = encoder.predict(X_test_scale)"
   ]
  },
  {
   "cell_type": "code",
   "execution_count": null,
   "metadata": {
    "colab": {
     "base_uri": "https://localhost:8080/"
    },
    "id": "euydSqSlKUXg",
    "outputId": "284259e9-1c09-4eb4-90e6-6ad043fb7c6e"
   },
   "outputs": [
    {
     "name": "stdout",
     "output_type": "stream",
     "text": [
      "Epoch 1/50\n",
      "146/146 [==============================] - 4s 6ms/step - loss: 4.1315\n",
      "Epoch 2/50\n",
      "146/146 [==============================] - 1s 3ms/step - loss: 1.4202\n",
      "Epoch 3/50\n",
      "146/146 [==============================] - 0s 3ms/step - loss: 0.9317\n",
      "Epoch 4/50\n",
      "146/146 [==============================] - 0s 3ms/step - loss: 0.7061\n",
      "Epoch 5/50\n",
      "146/146 [==============================] - 0s 3ms/step - loss: 0.6517\n",
      "Epoch 6/50\n",
      "146/146 [==============================] - 0s 3ms/step - loss: 0.6432\n",
      "Epoch 7/50\n",
      "146/146 [==============================] - 0s 3ms/step - loss: 0.6398\n",
      "Epoch 8/50\n",
      "146/146 [==============================] - 0s 3ms/step - loss: 0.6382\n",
      "Epoch 9/50\n",
      "146/146 [==============================] - 0s 3ms/step - loss: 0.6362\n",
      "Epoch 10/50\n",
      "146/146 [==============================] - 0s 2ms/step - loss: 0.6343\n",
      "Epoch 11/50\n",
      "146/146 [==============================] - 0s 2ms/step - loss: 0.6325\n",
      "Epoch 12/50\n",
      "146/146 [==============================] - 0s 3ms/step - loss: 0.6319\n",
      "Epoch 13/50\n",
      "146/146 [==============================] - 0s 2ms/step - loss: 0.6310\n",
      "Epoch 14/50\n",
      "146/146 [==============================] - 0s 2ms/step - loss: 0.6298\n",
      "Epoch 15/50\n",
      "146/146 [==============================] - 0s 2ms/step - loss: 0.6281\n",
      "Epoch 16/50\n",
      "146/146 [==============================] - 1s 6ms/step - loss: 0.6281\n",
      "Epoch 17/50\n",
      "146/146 [==============================] - 1s 5ms/step - loss: 0.6254\n",
      "Epoch 18/50\n",
      "146/146 [==============================] - 0s 2ms/step - loss: 0.6244\n",
      "Epoch 19/50\n",
      "146/146 [==============================] - 0s 2ms/step - loss: 0.6215\n",
      "Epoch 20/50\n",
      "146/146 [==============================] - 0s 2ms/step - loss: 0.6198\n",
      "Epoch 21/50\n",
      "146/146 [==============================] - 0s 2ms/step - loss: 0.6173\n",
      "Epoch 22/50\n",
      "146/146 [==============================] - 0s 2ms/step - loss: 0.6151\n",
      "Epoch 23/50\n",
      "146/146 [==============================] - 0s 2ms/step - loss: 0.6123\n",
      "Epoch 24/50\n",
      "146/146 [==============================] - 0s 2ms/step - loss: 0.6090\n",
      "Epoch 25/50\n",
      "146/146 [==============================] - 0s 2ms/step - loss: 0.6071\n",
      "Epoch 26/50\n",
      "146/146 [==============================] - 0s 2ms/step - loss: 0.6057\n",
      "Epoch 27/50\n",
      "146/146 [==============================] - 0s 3ms/step - loss: 0.6043\n",
      "Epoch 28/50\n",
      "146/146 [==============================] - 0s 3ms/step - loss: 0.6029\n",
      "Epoch 29/50\n",
      "146/146 [==============================] - 0s 3ms/step - loss: 0.6026\n",
      "Epoch 30/50\n",
      "146/146 [==============================] - 0s 3ms/step - loss: 0.6037\n",
      "Epoch 31/50\n",
      "146/146 [==============================] - 0s 3ms/step - loss: 0.5999\n",
      "Epoch 32/50\n",
      "146/146 [==============================] - 0s 3ms/step - loss: 0.6027\n",
      "Epoch 33/50\n",
      "146/146 [==============================] - 1s 6ms/step - loss: 0.6008\n",
      "Epoch 34/50\n",
      "146/146 [==============================] - 1s 7ms/step - loss: 0.6005\n",
      "Epoch 35/50\n",
      "146/146 [==============================] - 1s 7ms/step - loss: 0.6001\n",
      "Epoch 36/50\n",
      "146/146 [==============================] - 1s 6ms/step - loss: 0.5991\n",
      "Epoch 37/50\n",
      "146/146 [==============================] - 1s 6ms/step - loss: 0.5999\n",
      "Epoch 38/50\n",
      "146/146 [==============================] - 1s 6ms/step - loss: 0.5990\n",
      "Epoch 39/50\n",
      "146/146 [==============================] - 1s 6ms/step - loss: 0.5980\n",
      "Epoch 40/50\n",
      "146/146 [==============================] - 1s 5ms/step - loss: 0.6005\n",
      "Epoch 41/50\n",
      "146/146 [==============================] - 1s 5ms/step - loss: 0.5991\n",
      "Epoch 42/50\n",
      "146/146 [==============================] - 0s 3ms/step - loss: 0.5981\n",
      "Epoch 43/50\n",
      "146/146 [==============================] - 1s 4ms/step - loss: 0.5981\n",
      "Epoch 44/50\n",
      "146/146 [==============================] - 0s 3ms/step - loss: 0.5985\n",
      "Epoch 45/50\n",
      "146/146 [==============================] - 0s 2ms/step - loss: 0.5990\n",
      "Epoch 46/50\n",
      "146/146 [==============================] - 0s 2ms/step - loss: 0.5979\n",
      "Epoch 47/50\n",
      "146/146 [==============================] - 0s 2ms/step - loss: 0.5975\n",
      "Epoch 48/50\n",
      "146/146 [==============================] - 0s 2ms/step - loss: 0.5973\n",
      "Epoch 49/50\n",
      "146/146 [==============================] - 0s 2ms/step - loss: 0.5973\n",
      "Epoch 50/50\n",
      "146/146 [==============================] - 0s 2ms/step - loss: 0.5973\n"
     ]
    },
    {
     "data": {
      "text/plain": [
       "<keras.src.callbacks.History at 0x7d29b5b8c9d0>"
      ]
     },
     "execution_count": 166,
     "metadata": {},
     "output_type": "execute_result"
    }
   ],
   "source": [
    "\n",
    "# importing the libraries\n",
    "from keras.models import Sequential\n",
    "from keras.layers import Dense\n",
    "\n",
    "# create ANN model\n",
    "model = Sequential()\n",
    "\n",
    "# Defining the Input layer and FIRST hidden layer, both are same!\n",
    "model.add(Dense(units=5, input_dim=15, kernel_initializer='normal', activation='relu'))\n",
    "\n",
    "# Defining the Second layer of the model\n",
    "# after the first layer we don't have to specify input_dim as keras configure it automatically\n",
    "model.add(Dense(units=5, kernel_initializer='normal', activation='tanh'))\n",
    "\n",
    "# The output neuron is a single fully connected node\n",
    "# Since we will be predicting a single number\n",
    "model.add(Dense(1, kernel_initializer='normal'))\n",
    "\n",
    "# Compiling the model\n",
    "model.compile(loss='mean_squared_error', optimizer='adam')\n",
    "\n",
    "# Fitting the ANN to the Training set\n",
    "model.fit(X_train_encode, y_train_scale ,batch_size = 20, epochs = 50, verbose=1)"
   ]
  },
  {
   "cell_type": "code",
   "execution_count": null,
   "metadata": {
    "colab": {
     "base_uri": "https://localhost:8080/"
    },
    "id": "KcvKzyi-Kqz9",
    "outputId": "8474c0c1-2a9d-44c7-9130-a268c742574f"
   },
   "outputs": [
    {
     "name": "stdout",
     "output_type": "stream",
     "text": [
      "23/23 [==============================] - 0s 1ms/step\n"
     ]
    }
   ],
   "source": [
    "y_pred=model.predict(X_test_encode)"
   ]
  },
  {
   "cell_type": "code",
   "execution_count": null,
   "metadata": {
    "colab": {
     "base_uri": "https://localhost:8080/"
    },
    "id": "gZhyRmeeK9ge",
    "outputId": "69a5bac4-64f6-483a-ed48-62f27686236a"
   },
   "outputs": [
    {
     "data": {
      "text/plain": [
       "0.3480330614846757"
      ]
     },
     "execution_count": 172,
     "metadata": {},
     "output_type": "execute_result"
    }
   ],
   "source": [
    "from sklearn.metrics import accuracy_score\n",
    "\n",
    "# Calculate accuracy using categorical labels\n",
    "r2 = r2_score(y_test_scale, y_pred)\n",
    "r2"
   ]
  }
 ],
 "metadata": {
  "colab": {
   "provenance": []
  },
  "kernelspec": {
   "display_name": "Python 3 (ipykernel)",
   "language": "python",
   "name": "python3"
  },
  "language_info": {
   "codemirror_mode": {
    "name": "ipython",
    "version": 3
   },
   "file_extension": ".py",
   "mimetype": "text/x-python",
   "name": "python",
   "nbconvert_exporter": "python",
   "pygments_lexer": "ipython3",
   "version": "3.9.12"
  }
 },
 "nbformat": 4,
 "nbformat_minor": 1
}
